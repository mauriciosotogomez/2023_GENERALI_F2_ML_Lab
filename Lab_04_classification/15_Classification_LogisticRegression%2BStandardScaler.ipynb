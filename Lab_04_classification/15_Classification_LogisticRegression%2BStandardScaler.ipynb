{
 "cells": [
  {
   "cell_type": "markdown",
   "metadata": {},
   "source": [
    "# Classification: Logistic Regression"
   ]
  },
  {
   "cell_type": "code",
   "execution_count": 1,
   "metadata": {},
   "outputs": [],
   "source": [
    "#IMPORT DATA\n",
    "import pandas as pd\n",
    "data = pd.read_csv('diabetes.csv')"
   ]
  },
  {
   "cell_type": "code",
   "execution_count": 2,
   "metadata": {},
   "outputs": [
    {
     "data": {
      "text/html": [
       "<div>\n",
       "<style scoped>\n",
       "    .dataframe tbody tr th:only-of-type {\n",
       "        vertical-align: middle;\n",
       "    }\n",
       "\n",
       "    .dataframe tbody tr th {\n",
       "        vertical-align: top;\n",
       "    }\n",
       "\n",
       "    .dataframe thead th {\n",
       "        text-align: right;\n",
       "    }\n",
       "</style>\n",
       "<table border=\"1\" class=\"dataframe\">\n",
       "  <thead>\n",
       "    <tr style=\"text-align: right;\">\n",
       "      <th></th>\n",
       "      <th>timespreg</th>\n",
       "      <th>gluctol</th>\n",
       "      <th>diaspb</th>\n",
       "      <th>triceps</th>\n",
       "      <th>insulin</th>\n",
       "      <th>massindex</th>\n",
       "      <th>pedigree</th>\n",
       "      <th>age</th>\n",
       "      <th>target</th>\n",
       "    </tr>\n",
       "  </thead>\n",
       "  <tbody>\n",
       "    <tr>\n",
       "      <th>0</th>\n",
       "      <td>6</td>\n",
       "      <td>148</td>\n",
       "      <td>72</td>\n",
       "      <td>35</td>\n",
       "      <td>0</td>\n",
       "      <td>33.6</td>\n",
       "      <td>0.627</td>\n",
       "      <td>50</td>\n",
       "      <td>1</td>\n",
       "    </tr>\n",
       "    <tr>\n",
       "      <th>1</th>\n",
       "      <td>1</td>\n",
       "      <td>85</td>\n",
       "      <td>66</td>\n",
       "      <td>29</td>\n",
       "      <td>0</td>\n",
       "      <td>26.6</td>\n",
       "      <td>0.351</td>\n",
       "      <td>31</td>\n",
       "      <td>0</td>\n",
       "    </tr>\n",
       "    <tr>\n",
       "      <th>2</th>\n",
       "      <td>8</td>\n",
       "      <td>183</td>\n",
       "      <td>64</td>\n",
       "      <td>0</td>\n",
       "      <td>0</td>\n",
       "      <td>23.3</td>\n",
       "      <td>0.672</td>\n",
       "      <td>32</td>\n",
       "      <td>1</td>\n",
       "    </tr>\n",
       "    <tr>\n",
       "      <th>3</th>\n",
       "      <td>1</td>\n",
       "      <td>89</td>\n",
       "      <td>66</td>\n",
       "      <td>23</td>\n",
       "      <td>94</td>\n",
       "      <td>28.1</td>\n",
       "      <td>0.167</td>\n",
       "      <td>21</td>\n",
       "      <td>0</td>\n",
       "    </tr>\n",
       "    <tr>\n",
       "      <th>4</th>\n",
       "      <td>0</td>\n",
       "      <td>137</td>\n",
       "      <td>40</td>\n",
       "      <td>35</td>\n",
       "      <td>168</td>\n",
       "      <td>43.1</td>\n",
       "      <td>2.288</td>\n",
       "      <td>33</td>\n",
       "      <td>1</td>\n",
       "    </tr>\n",
       "  </tbody>\n",
       "</table>\n",
       "</div>"
      ],
      "text/plain": [
       "   timespreg  gluctol  diaspb  triceps  insulin  massindex  pedigree  age  \\\n",
       "0          6      148      72       35        0       33.6     0.627   50   \n",
       "1          1       85      66       29        0       26.6     0.351   31   \n",
       "2          8      183      64        0        0       23.3     0.672   32   \n",
       "3          1       89      66       23       94       28.1     0.167   21   \n",
       "4          0      137      40       35      168       43.1     2.288   33   \n",
       "\n",
       "   target  \n",
       "0       1  \n",
       "1       0  \n",
       "2       1  \n",
       "3       0  \n",
       "4       1  "
      ]
     },
     "execution_count": 2,
     "metadata": {},
     "output_type": "execute_result"
    }
   ],
   "source": [
    "data.head()"
   ]
  },
  {
   "cell_type": "code",
   "execution_count": 3,
   "metadata": {},
   "outputs": [
    {
     "name": "stdout",
     "output_type": "stream",
     "text": [
      "target\n",
      "0    500\n",
      "1    268\n",
      "dtype: int64\n"
     ]
    },
    {
     "name": "stderr",
     "output_type": "stream",
     "text": [
      "/home/mausoto/anaconda3/lib/python3.8/site-packages/scipy/__init__.py:138: UserWarning: A NumPy version >=1.16.5 and <1.23.0 is required for this version of SciPy (detected version 1.23.3)\n",
      "  warnings.warn(f\"A NumPy version >={np_minversion} and <{np_maxversion} is required for this version of \"\n"
     ]
    },
    {
     "data": {
      "image/png": "[encoded data removed]",
      "text/plain": [
       "<Figure size 640x480 with 1 Axes>"
      ]
     },
     "metadata": {},
     "output_type": "display_data"
    }
   ],
   "source": [
    "#Print class freq. through pandas \n",
    "print(data.groupby('target').size())\n",
    "\n",
    "#some imports to plot \n",
    "import matplotlib.pyplot as plt\n",
    "import seaborn as sns\n",
    "%matplotlib inline\n",
    "plt.style.use('ggplot')\n",
    "\n",
    "#Visualize Class Counts\n",
    "sns.countplot(y=data.target ,data=data)\n",
    "plt.xlabel(\"count of each class\")\n",
    "plt.ylabel(\"classes\")\n",
    "plt.show()"
   ]
  },
  {
   "cell_type": "code",
   "execution_count": 4,
   "metadata": {},
   "outputs": [
    {
     "name": "stdout",
     "output_type": "stream",
     "text": [
      "<class 'pandas.core.frame.DataFrame'>\n",
      "RangeIndex: 768 entries, 0 to 767\n",
      "Data columns (total 9 columns):\n",
      " #   Column     Non-Null Count  Dtype  \n",
      "---  ------     --------------  -----  \n",
      " 0   timespreg  768 non-null    int64  \n",
      " 1   gluctol    768 non-null    int64  \n",
      " 2   diaspb     768 non-null    int64  \n",
      " 3   triceps    768 non-null    int64  \n",
      " 4   insulin    768 non-null    int64  \n",
      " 5   massindex  768 non-null    float64\n",
      " 6   pedigree   768 non-null    float64\n",
      " 7   age        768 non-null    int64  \n",
      " 8   target     768 non-null    int64  \n",
      "dtypes: float64(2), int64(7)\n",
      "memory usage: 54.1 KB\n"
     ]
    }
   ],
   "source": [
    "#gives information about the data types,columns, null value counts, memory usage etc\n",
    "data.info(verbose=True)"
   ]
  },
  {
   "cell_type": "code",
   "execution_count": 5,
   "metadata": {},
   "outputs": [
    {
     "data": {
      "text/html": [
       "<div>\n",
       "<style scoped>\n",
       "    .dataframe tbody tr th:only-of-type {\n",
       "        vertical-align: middle;\n",
       "    }\n",
       "\n",
       "    .dataframe tbody tr th {\n",
       "        vertical-align: top;\n",
       "    }\n",
       "\n",
       "    .dataframe thead th {\n",
       "        text-align: right;\n",
       "    }\n",
       "</style>\n",
       "<table border=\"1\" class=\"dataframe\">\n",
       "  <thead>\n",
       "    <tr style=\"text-align: right;\">\n",
       "      <th></th>\n",
       "      <th>timespreg</th>\n",
       "      <th>gluctol</th>\n",
       "      <th>diaspb</th>\n",
       "      <th>triceps</th>\n",
       "      <th>insulin</th>\n",
       "      <th>massindex</th>\n",
       "      <th>pedigree</th>\n",
       "      <th>age</th>\n",
       "      <th>target</th>\n",
       "    </tr>\n",
       "  </thead>\n",
       "  <tbody>\n",
       "    <tr>\n",
       "      <th>count</th>\n",
       "      <td>768.000000</td>\n",
       "      <td>768.000000</td>\n",
       "      <td>768.000000</td>\n",
       "      <td>768.000000</td>\n",
       "      <td>768.000000</td>\n",
       "      <td>768.000000</td>\n",
       "      <td>768.000000</td>\n",
       "      <td>768.000000</td>\n",
       "      <td>768.000000</td>\n",
       "    </tr>\n",
       "    <tr>\n",
       "      <th>mean</th>\n",
       "      <td>3.845052</td>\n",
       "      <td>120.894531</td>\n",
       "      <td>69.105469</td>\n",
       "      <td>20.536458</td>\n",
       "      <td>79.799479</td>\n",
       "      <td>31.992578</td>\n",
       "      <td>0.471876</td>\n",
       "      <td>33.240885</td>\n",
       "      <td>0.348958</td>\n",
       "    </tr>\n",
       "    <tr>\n",
       "      <th>std</th>\n",
       "      <td>3.369578</td>\n",
       "      <td>31.972618</td>\n",
       "      <td>19.355807</td>\n",
       "      <td>15.952218</td>\n",
       "      <td>115.244002</td>\n",
       "      <td>7.884160</td>\n",
       "      <td>0.331329</td>\n",
       "      <td>11.760232</td>\n",
       "      <td>0.476951</td>\n",
       "    </tr>\n",
       "    <tr>\n",
       "      <th>min</th>\n",
       "      <td>0.000000</td>\n",
       "      <td>0.000000</td>\n",
       "      <td>0.000000</td>\n",
       "      <td>0.000000</td>\n",
       "      <td>0.000000</td>\n",
       "      <td>0.000000</td>\n",
       "      <td>0.078000</td>\n",
       "      <td>21.000000</td>\n",
       "      <td>0.000000</td>\n",
       "    </tr>\n",
       "    <tr>\n",
       "      <th>25%</th>\n",
       "      <td>1.000000</td>\n",
       "      <td>99.000000</td>\n",
       "      <td>62.000000</td>\n",
       "      <td>0.000000</td>\n",
       "      <td>0.000000</td>\n",
       "      <td>27.300000</td>\n",
       "      <td>0.243750</td>\n",
       "      <td>24.000000</td>\n",
       "      <td>0.000000</td>\n",
       "    </tr>\n",
       "    <tr>\n",
       "      <th>50%</th>\n",
       "      <td>3.000000</td>\n",
       "      <td>117.000000</td>\n",
       "      <td>72.000000</td>\n",
       "      <td>23.000000</td>\n",
       "      <td>30.500000</td>\n",
       "      <td>32.000000</td>\n",
       "      <td>0.372500</td>\n",
       "      <td>29.000000</td>\n",
       "      <td>0.000000</td>\n",
       "    </tr>\n",
       "    <tr>\n",
       "      <th>75%</th>\n",
       "      <td>6.000000</td>\n",
       "      <td>140.250000</td>\n",
       "      <td>80.000000</td>\n",
       "      <td>32.000000</td>\n",
       "      <td>127.250000</td>\n",
       "      <td>36.600000</td>\n",
       "      <td>0.626250</td>\n",
       "      <td>41.000000</td>\n",
       "      <td>1.000000</td>\n",
       "    </tr>\n",
       "    <tr>\n",
       "      <th>max</th>\n",
       "      <td>17.000000</td>\n",
       "      <td>199.000000</td>\n",
       "      <td>122.000000</td>\n",
       "      <td>99.000000</td>\n",
       "      <td>846.000000</td>\n",
       "      <td>67.100000</td>\n",
       "      <td>2.420000</td>\n",
       "      <td>81.000000</td>\n",
       "      <td>1.000000</td>\n",
       "    </tr>\n",
       "  </tbody>\n",
       "</table>\n",
       "</div>"
      ],
      "text/plain": [
       "        timespreg     gluctol      diaspb     triceps     insulin   massindex  \\\n",
       "count  768.000000  768.000000  768.000000  768.000000  768.000000  768.000000   \n",
       "mean     3.845052  120.894531   69.105469   20.536458   79.799479   31.992578   \n",
       "std      3.369578   31.972618   19.355807   15.952218  115.244002    7.884160   \n",
       "min      0.000000    0.000000    0.000000    0.000000    0.000000    0.000000   \n",
       "25%      1.000000   99.000000   62.000000    0.000000    0.000000   27.300000   \n",
       "50%      3.000000  117.000000   72.000000   23.000000   30.500000   32.000000   \n",
       "75%      6.000000  140.250000   80.000000   32.000000  127.250000   36.600000   \n",
       "max     17.000000  199.000000  122.000000   99.000000  846.000000   67.100000   \n",
       "\n",
       "         pedigree         age      target  \n",
       "count  768.000000  768.000000  768.000000  \n",
       "mean     0.471876   33.240885    0.348958  \n",
       "std      0.331329   11.760232    0.476951  \n",
       "min      0.078000   21.000000    0.000000  \n",
       "25%      0.243750   24.000000    0.000000  \n",
       "50%      0.372500   29.000000    0.000000  \n",
       "75%      0.626250   41.000000    1.000000  \n",
       "max      2.420000   81.000000    1.000000  "
      ]
     },
     "execution_count": 5,
     "metadata": {},
     "output_type": "execute_result"
    }
   ],
   "source": [
    "#basic statistic details about the data\n",
    "data.describe(include=\"all\")"
   ]
  },
  {
   "cell_type": "code",
   "execution_count": 6,
   "metadata": {},
   "outputs": [
    {
     "data": {
      "text/plain": [
       "<AxesSubplot:>"
      ]
     },
     "execution_count": 6,
     "metadata": {},
     "output_type": "execute_result"
    },
    {
     "data": {
      "image/png": "[encoded data removed]",
      "text/plain": [
       "<Figure size 640x480 with 1 Axes>"
      ]
     },
     "metadata": {},
     "output_type": "display_data"
    }
   ],
   "source": [
    "data.boxplot(rot=90)"
   ]
  },
  {
   "cell_type": "code",
   "execution_count": 7,
   "metadata": {},
   "outputs": [],
   "source": [
    "#Separate X and y (explanatory variables and target variable)\n",
    "X = data.iloc[:,0:-1]\n",
    "column_names = list(X) \n",
    "y = data.iloc[:,-1] \n",
    "\n",
    "#X.head()\n",
    "#y.head()"
   ]
  },
  {
   "cell_type": "code",
   "execution_count": 8,
   "metadata": {},
   "outputs": [],
   "source": [
    "from sklearn.preprocessing import StandardScaler\n",
    "#from sklearn.preprocessing import MinMaxScaler\n",
    "'''\n",
    "USING STANDARDSCALER:\n",
    "\n",
    "Standardize features by removing the mean and scaling to unit variance\n",
    "\n",
    "Centering and scaling happen independently on each feature by computing the relevant statistics on the samples in the training set. Mean and standard deviation are then stored to be used on later data using the transform method.\n",
    "\n",
    "Standardization of a dataset is a common requirement for many machine learning estimators: they might behave badly if the individual features do not more or less look like standard normally distributed data (e.g. Gaussian with 0 mean and unit variance).\n",
    "'''\n",
    "\n",
    "scaler = StandardScaler().fit(X) \n",
    "#scaler =  MinMaxScaler().fit(X)"
   ]
  },
  {
   "cell_type": "code",
   "execution_count": 9,
   "metadata": {},
   "outputs": [],
   "source": [
    "X_scaled = scaler.transform(X)"
   ]
  },
  {
   "cell_type": "code",
   "execution_count": 10,
   "metadata": {},
   "outputs": [
    {
     "data": {
      "text/html": [
       "<div>\n",
       "<style scoped>\n",
       "    .dataframe tbody tr th:only-of-type {\n",
       "        vertical-align: middle;\n",
       "    }\n",
       "\n",
       "    .dataframe tbody tr th {\n",
       "        vertical-align: top;\n",
       "    }\n",
       "\n",
       "    .dataframe thead th {\n",
       "        text-align: right;\n",
       "    }\n",
       "</style>\n",
       "<table border=\"1\" class=\"dataframe\">\n",
       "  <thead>\n",
       "    <tr style=\"text-align: right;\">\n",
       "      <th></th>\n",
       "      <th>timespreg</th>\n",
       "      <th>gluctol</th>\n",
       "      <th>diaspb</th>\n",
       "      <th>triceps</th>\n",
       "      <th>insulin</th>\n",
       "      <th>massindex</th>\n",
       "      <th>pedigree</th>\n",
       "      <th>age</th>\n",
       "    </tr>\n",
       "  </thead>\n",
       "  <tbody>\n",
       "    <tr>\n",
       "      <th>0</th>\n",
       "      <td>0.639947</td>\n",
       "      <td>0.848324</td>\n",
       "      <td>0.149641</td>\n",
       "      <td>0.907270</td>\n",
       "      <td>-0.692891</td>\n",
       "      <td>0.204013</td>\n",
       "      <td>0.468492</td>\n",
       "      <td>1.425995</td>\n",
       "    </tr>\n",
       "    <tr>\n",
       "      <th>1</th>\n",
       "      <td>-0.844885</td>\n",
       "      <td>-1.123396</td>\n",
       "      <td>-0.160546</td>\n",
       "      <td>0.530902</td>\n",
       "      <td>-0.692891</td>\n",
       "      <td>-0.684422</td>\n",
       "      <td>-0.365061</td>\n",
       "      <td>-0.190672</td>\n",
       "    </tr>\n",
       "    <tr>\n",
       "      <th>2</th>\n",
       "      <td>1.233880</td>\n",
       "      <td>1.943724</td>\n",
       "      <td>-0.263941</td>\n",
       "      <td>-1.288212</td>\n",
       "      <td>-0.692891</td>\n",
       "      <td>-1.103255</td>\n",
       "      <td>0.604397</td>\n",
       "      <td>-0.105584</td>\n",
       "    </tr>\n",
       "    <tr>\n",
       "      <th>3</th>\n",
       "      <td>-0.844885</td>\n",
       "      <td>-0.998208</td>\n",
       "      <td>-0.160546</td>\n",
       "      <td>0.154533</td>\n",
       "      <td>0.123302</td>\n",
       "      <td>-0.494043</td>\n",
       "      <td>-0.920763</td>\n",
       "      <td>-1.041549</td>\n",
       "    </tr>\n",
       "    <tr>\n",
       "      <th>4</th>\n",
       "      <td>-1.141852</td>\n",
       "      <td>0.504055</td>\n",
       "      <td>-1.504687</td>\n",
       "      <td>0.907270</td>\n",
       "      <td>0.765836</td>\n",
       "      <td>1.409746</td>\n",
       "      <td>5.484909</td>\n",
       "      <td>-0.020496</td>\n",
       "    </tr>\n",
       "  </tbody>\n",
       "</table>\n",
       "</div>"
      ],
      "text/plain": [
       "   timespreg   gluctol    diaspb   triceps   insulin  massindex  pedigree  \\\n",
       "0   0.639947  0.848324  0.149641  0.907270 -0.692891   0.204013  0.468492   \n",
       "1  -0.844885 -1.123396 -0.160546  0.530902 -0.692891  -0.684422 -0.365061   \n",
       "2   1.233880  1.943724 -0.263941 -1.288212 -0.692891  -1.103255  0.604397   \n",
       "3  -0.844885 -0.998208 -0.160546  0.154533  0.123302  -0.494043 -0.920763   \n",
       "4  -1.141852  0.504055 -1.504687  0.907270  0.765836   1.409746  5.484909   \n",
       "\n",
       "        age  \n",
       "0  1.425995  \n",
       "1 -0.190672  \n",
       "2 -0.105584  \n",
       "3 -1.041549  \n",
       "4 -0.020496  "
      ]
     },
     "execution_count": 10,
     "metadata": {},
     "output_type": "execute_result"
    }
   ],
   "source": [
    "X_scaled = pd.DataFrame(X_scaled)\n",
    "X_scaled.columns = column_names\n",
    "\n",
    "X_scaled.head()"
   ]
  },
  {
   "cell_type": "code",
   "execution_count": 11,
   "metadata": {},
   "outputs": [
    {
     "data": {
      "text/plain": [
       "<AxesSubplot:>"
      ]
     },
     "execution_count": 11,
     "metadata": {},
     "output_type": "execute_result"
    },
    {
     "data": {
      "image/png": "[encoded data removed]",
      "text/plain": [
       "<Figure size 640x480 with 1 Axes>"
      ]
     },
     "metadata": {},
     "output_type": "display_data"
    }
   ],
   "source": [
    "X_scaled.boxplot()"
   ]
  },
  {
   "cell_type": "code",
   "execution_count": 12,
   "metadata": {},
   "outputs": [
    {
     "name": "stdout",
     "output_type": "stream",
     "text": [
      "(537, 8)\n"
     ]
    }
   ],
   "source": [
    "from sklearn.model_selection import train_test_split\n",
    "\n",
    "#SPLIT DATA INTO TRAIN AND TEST SET\n",
    "X_train, X_test, y_train, y_test = train_test_split(X, y,  #X_scaled\n",
    "                                                    test_size =0.30, #by default is 75%-25%\n",
    "                                                    #shuffle is set True by default,\n",
    "                                                    stratify=y,\n",
    "                                                    random_state= 123) #fix random seed for replicability\n",
    "\n",
    "print(X_train.shape)"
   ]
  },
  {
   "cell_type": "markdown",
   "metadata": {},
   "source": [
    "## Logistic Regression Model"
   ]
  },
  {
   "cell_type": "markdown",
   "metadata": {},
   "source": [
    "The model postulates that\n",
    "\n",
    "$$ z=\\log\\left[\\frac{P(y=1|x)}{P(y=0|x)}\\right]=w^T x$$\n",
    "\n",
    "then if $p=P(y=0|x)$\n",
    "\n",
    "$$ \\frac{1-p}{p}=e^{w^T x}\\\\ \\Rightarrow  P(y=0|x)=\\frac{1}{1+e^{-w^T x}},\\quad P(y=1|x)=\\frac{e^{-w^T x}}{1+e^{-w^T x}}\n",
    "$$\n",
    "\n",
    "<img src=\"sigmoid.png\" alt=\"sigmoid\" style=\"width: 350px;\"/>\n",
    "\n",
    "Therefore if we maximizes the likelihood\n",
    "$$ L(w) :=P(Y_1=y_1,\\ldots,Y_m=y_m|w,x_1,\\dots,x_m) =\\Pi_{i=1}^nP(Y_i=y_i|w,x_1,\\dots,x_m). $$\n",
    "Assuming independence:\n",
    "$$ L(w) := \\prod_{i|y_i=1} p(x_i) * \\prod_{i|y_i=0}(1- p(x_i)) $$\n",
    "$$ L(w) := \\prod_{i=1}^n p(x_i)^{y_i}(1- p(x_i))^{1-y_i} $$\n",
    "\n",
    "is equivalent to maximize the log likelihood\n",
    "\n",
    "$$l(w)=\\sum_{i=1}^n (y_i log(p(x_i)) + (1-y_i) log(1- p(x_i)) )$$\n",
    "$$ = \\sum_{i=1}^n (y_i log(\\frac{p(x_i}{1-p(x_i)}) + log(1-p(x_i))) $$\n",
    "\n",
    "\n",
    "Therefore we aim to resolve the following optimization problem\n",
    "$$\\min_{w} \\frac{1}{2}||w||^2 - C \\sum_{i=1}^n (y_i w^T x_i) - log(1-e^{w^T x_i})) $$\n",
    "\n",
    "<img src=\"regularization_1.png\" alt=\"regularization\" style=\"width: 400px;\"/>"
   ]
  },
  {
   "cell_type": "code",
   "execution_count": 13,
   "metadata": {},
   "outputs": [
    {
     "data": {
      "text/plain": [
       "LogisticRegression(C=10)"
      ]
     },
     "execution_count": 13,
     "metadata": {},
     "output_type": "execute_result"
    }
   ],
   "source": [
    "from sklearn.linear_model import LogisticRegression\n",
    "\n",
    "model = LogisticRegression(C=10, solver='lbfgs')\n",
    "model.fit(X_train, y_train)\n",
    "# penalty : str, ‘l1’, ‘l2’, ‘elasticnet’ or ‘none’, optional (default=’l2’)\n",
    "# tol : Tolerance for stopping criteria.\n",
    "# C : Inverse of regularization strength\n",
    "# solver : Algorithm to use in the optimization problem{ ‘newton-cg’, ‘lbfgs’, ‘liblinear’, ‘sag’, ‘saga’}\n",
    "# max_iter : Maximum number of iterations taken for the solvers to converge."
   ]
  },
  {
   "cell_type": "code",
   "execution_count": 14,
   "metadata": {},
   "outputs": [
    {
     "data": {
      "text/plain": [
       "array([0, 0, 0, 0, 1, 0, 0, 0, 0, 0, 0, 0, 0, 0, 1, 1, 0, 0, 0, 0, 1, 0,\n",
       "       1, 0, 0, 1, 0, 0, 0, 1, 0, 1, 0, 0, 0, 0, 0, 1, 0, 1, 0, 1, 0, 0,\n",
       "       0, 0, 0, 0, 0, 0, 0, 0, 0, 0, 0, 1, 0, 0, 0, 0, 0, 0, 0, 0, 0, 1,\n",
       "       0, 0, 1, 1, 0, 0, 0, 0, 1, 0, 0, 1, 0, 1, 1, 0, 0, 0, 1, 0, 0, 0,\n",
       "       0, 1, 0, 0, 0, 1, 0, 0, 0, 1, 0, 0, 0, 1, 1, 0, 1, 0, 0, 0, 1, 0,\n",
       "       1, 0, 0, 0, 1, 0, 0, 0, 0, 0, 1, 1, 0, 0, 0, 0, 0, 0, 1, 0, 0, 0,\n",
       "       0, 1, 0, 0, 1, 1, 0, 0, 0, 0, 1, 1, 1, 1, 0, 0, 1, 0, 0, 0, 0, 0,\n",
       "       1, 0, 0, 1, 0, 0, 0, 0, 0, 0, 1, 0, 0, 0, 1, 0, 1, 1, 0, 1, 0, 0,\n",
       "       0, 1, 0, 1, 1, 0, 0, 0, 0, 0, 1, 0, 0, 0, 0, 0, 0, 0, 0, 0, 0, 1,\n",
       "       0, 0, 0, 1, 0, 0, 0, 0, 1, 0, 0, 1, 1, 0, 0, 1, 1, 1, 0, 0, 0, 0,\n",
       "       0, 0, 1, 0, 0, 0, 0, 1, 0, 0, 0])"
      ]
     },
     "execution_count": 14,
     "metadata": {},
     "output_type": "execute_result"
    }
   ],
   "source": [
    "model.predict(X_test)"
   ]
  },
  {
   "cell_type": "code",
   "execution_count": 69,
   "metadata": {},
   "outputs": [],
   "source": [
    "#DEFINE YOUR CLASSIFIER and THE PARAMETERS GRID\n",
    "from sklearn.linear_model import LogisticRegression\n",
    "import numpy as np\n",
    "\n",
    "classifier = LogisticRegression()\n",
    "parameters = {\"C\":[1e-3,1e-2, 1],\"penalty\":['l2'] , \"max_iter\":[100,1000]}"
   ]
  },
  {
   "cell_type": "code",
   "execution_count": 70,
   "metadata": {},
   "outputs": [],
   "source": [
    "#DEFINE YOUR GRIDSEARCH \n",
    "'''\n",
    "GS perfoms an exhaustive search over specified parameter values for an estimator.\n",
    "GS uses a Stratified K-Folds cross-validator\n",
    "(The folds are made by preserving the percentage of samples for each class.)\n",
    "If refit=True the model is retrained on the whole training set with the best found params\n",
    "'''\n",
    "from sklearn.model_selection import GridSearchCV\n",
    "gs = GridSearchCV(classifier, parameters, cv=3, scoring = 'f1', verbose=50, n_jobs=-1, refit=True)"
   ]
  },
  {
   "cell_type": "code",
   "execution_count": 71,
   "metadata": {
    "scrolled": true
   },
   "outputs": [
    {
     "name": "stdout",
     "output_type": "stream",
     "text": [
      "Fitting 3 folds for each of 6 candidates, totalling 18 fits\n"
     ]
    },
    {
     "name": "stderr",
     "output_type": "stream",
     "text": [
      "/home/mausoto/anaconda3/lib/python3.8/site-packages/sklearn/linear_model/_logistic.py:763: ConvergenceWarning: lbfgs failed to converge (status=1):\n",
      "STOP: TOTAL NO. of ITERATIONS REACHED LIMIT.\n",
      "\n",
      "Increase the number of iterations (max_iter) or scale the data as shown in:\n",
      "    https://scikit-learn.org/stable/modules/preprocessing.html\n",
      "Please also refer to the documentation for alternative solver options:\n",
      "    https://scikit-learn.org/stable/modules/linear_model.html#logistic-regression\n",
      "  n_iter_i = _check_optimize_result(\n"
     ]
    }
   ],
   "source": [
    "#TRAIN YOUR CLASSIFIER\n",
    "gs = gs.fit(X_train, y_train)"
   ]
  },
  {
   "cell_type": "code",
   "execution_count": 72,
   "metadata": {},
   "outputs": [
    {
     "name": "stdout",
     "output_type": "stream",
     "text": [
      "***GRIDSEARCH RESULTS***\n",
      "Best score: 0.638171 using {'C': 0.01, 'max_iter': 100, 'penalty': 'l2'}\n",
      "0.626410 (0.066331) with: {'C': 0.001, 'max_iter': 100, 'penalty': 'l2'}\n",
      "0.626410 (0.066331) with: {'C': 0.001, 'max_iter': 1000, 'penalty': 'l2'}\n",
      "0.638171 (0.072674) with: {'C': 0.01, 'max_iter': 100, 'penalty': 'l2'}\n",
      "0.633894 (0.077374) with: {'C': 0.01, 'max_iter': 1000, 'penalty': 'l2'}\n",
      "0.623163 (0.067782) with: {'C': 1, 'max_iter': 100, 'penalty': 'l2'}\n",
      "0.631116 (0.081985) with: {'C': 1, 'max_iter': 1000, 'penalty': 'l2'}\n"
     ]
    }
   ],
   "source": [
    "#summarize the results of your GRIDSEARCH\n",
    "print('***GRIDSEARCH RESULTS***')\n",
    "\n",
    "print(\"Best score: %f using %s\" % (gs.best_score_, gs.best_params_))\n",
    "means = gs.cv_results_['mean_test_score']\n",
    "stds = gs.cv_results_['std_test_score']\n",
    "params = gs.cv_results_['params']\n",
    "\n",
    "for mean, stdev, param in zip(means, stds, params):\n",
    "    print(\"%f (%f) with: %r\" % (mean, stdev, param))"
   ]
  },
  {
   "cell_type": "code",
   "execution_count": 73,
   "metadata": {},
   "outputs": [],
   "source": [
    "#TEST ON YOUR TEST SET \n",
    "best_model = gs.best_estimator_\n",
    "\n",
    "y_pred = best_model.predict(X_test)\n",
    "y_pred_train = best_model.predict(X_train)"
   ]
  },
  {
   "cell_type": "code",
   "execution_count": 77,
   "metadata": {},
   "outputs": [
    {
     "name": "stdout",
     "output_type": "stream",
     "text": [
      "[[ 0.10345374  0.03870002 -0.01130032  0.00686983 -0.00186285  0.08733357\n",
      "   0.04863998  0.0041623 ]]\n",
      "Index(['timespreg', 'gluctol', 'diaspb', 'triceps', 'insulin', 'massindex',\n",
      "       'pedigree', 'age'],\n",
      "      dtype='object')\n"
     ]
    }
   ],
   "source": [
    "print(gs.best_estimator_.coef_)\n",
    "print(X_train.columns)"
   ]
  },
  {
   "cell_type": "code",
   "execution_count": 75,
   "metadata": {},
   "outputs": [
    {
     "name": "stdout",
     "output_type": "stream",
     "text": [
      "***RESULTS ON TRAIN SET***\n",
      "f1_score:  0.6587537091988132\n",
      "--\n",
      "***RESULTS ON TEST SET***\n",
      "f1_score:  0.6068965517241379\n"
     ]
    }
   ],
   "source": [
    "#EVALUATE YOUR PREDICTION (on the y_test that you left aside)\n",
    "from sklearn import metrics\n",
    "\n",
    "print('***RESULTS ON TRAIN SET***')\n",
    "print(\"f1_score: \", metrics.f1_score(y_train, y_pred_train))\n",
    "print(\"--\")\n",
    "print('***RESULTS ON TEST SET***')\n",
    "print(\"f1_score: \", metrics.f1_score(y_test, y_pred))"
   ]
  },
  {
   "cell_type": "code",
   "execution_count": 76,
   "metadata": {},
   "outputs": [
    {
     "name": "stdout",
     "output_type": "stream",
     "text": [
      "              precision    recall  f1-score   support\n",
      "\n",
      "           0       0.78      0.87      0.82       150\n",
      "           1       0.69      0.54      0.61        81\n",
      "\n",
      "    accuracy                           0.75       231\n",
      "   macro avg       0.73      0.70      0.71       231\n",
      "weighted avg       0.75      0.75      0.75       231\n",
      "\n"
     ]
    }
   ],
   "source": [
    "#PRINT SOME FURTHER METRICS\n",
    "from sklearn.metrics import classification_report\n",
    "print(classification_report(y_test, y_pred))"
   ]
  },
  {
   "cell_type": "code",
   "execution_count": 78,
   "metadata": {},
   "outputs": [
    {
     "name": "stdout",
     "output_type": "stream",
     "text": [
      "[[130  20]\n",
      " [ 37  44]]\n"
     ]
    }
   ],
   "source": [
    "#CONFUSION MATRIX\n",
    "from sklearn.metrics import confusion_matrix\n",
    "print(confusion_matrix(y_test, y_pred))"
   ]
  },
  {
   "cell_type": "code",
   "execution_count": 79,
   "metadata": {},
   "outputs": [
    {
     "data": {
      "image/png": "[encoded data removed]",
      "text/plain": [
       "<Figure size 640x480 with 2 Axes>"
      ]
     },
     "metadata": {},
     "output_type": "display_data"
    }
   ],
   "source": [
    "# Plot confusion matrix\n",
    "sns.heatmap(confusion_matrix(y_test, y_pred), annot=True, fmt='d', cmap=\"Blues\"); #annot=True to annotate cells fmt: format\n"
   ]
  },
  {
   "cell_type": "code",
   "execution_count": 80,
   "metadata": {},
   "outputs": [
    {
     "data": {
      "image/png": "[encoded data removed]",
      "text/plain": [
       "<Figure size 640x480 with 1 Axes>"
      ]
     },
     "metadata": {},
     "output_type": "display_data"
    },
    {
     "name": "stdout",
     "output_type": "stream",
     "text": [
      "AUC: 0.84\n"
     ]
    }
   ],
   "source": [
    "from sklearn import metrics\n",
    "\n",
    "model = LogisticRegression(C=0.01,solver='newton-cg')\n",
    "model.fit(X_train, y_train)\n",
    "y_pred = model.predict(X_test)\n",
    "\n",
    "y_probs = model.predict_proba(X_test) #predict_proba gives the probabilities for the target (0 and 1 in your case) \n",
    "\n",
    "fpr, tpr, thresholds=metrics.roc_curve(y_test,  y_probs[:,1])\n",
    "\n",
    "import matplotlib.pyplot as plt\n",
    "plt.plot(fpr, tpr, label='ROC')\n",
    "plt.plot([0, 1], [0, 1], color='darkblue', linestyle='--')\n",
    "plt.xlabel('False Positive Rate')\n",
    "plt.ylabel('True Positive Rate')\n",
    "plt.title('Receiver Operating Characteristic (ROC) Curve')\n",
    "plt.legend()\n",
    "plt.show()\n",
    "\n",
    "auc = metrics.roc_auc_score(y_test, y_probs[:,1])\n",
    "print('AUC: %.2f' % auc)"
   ]
  },
  {
   "cell_type": "code",
   "execution_count": 81,
   "metadata": {},
   "outputs": [
    {
     "data": {
      "text/plain": [
       "array([[ 0.08891249,  0.03663724, -0.01186417,  0.00583608, -0.00168874,\n",
       "         0.08012019,  0.05453474,  0.00630544]])"
      ]
     },
     "execution_count": 81,
     "metadata": {},
     "output_type": "execute_result"
    }
   ],
   "source": [
    "model.coef_"
   ]
  },
  {
   "cell_type": "code",
   "execution_count": 82,
   "metadata": {},
   "outputs": [
    {
     "data": {
      "text/plain": [
       "[('timespreg', 0.08891249486058297),\n",
       " ('gluctol', 0.03663723907035713),\n",
       " ('diaspb', -0.011864166859578215),\n",
       " ('triceps', 0.005836076543969611),\n",
       " ('insulin', -0.0016887422636317655),\n",
       " ('massindex', 0.08012019139507134),\n",
       " ('pedigree', 0.05453473929187105),\n",
       " ('age', 0.006305442955730456)]"
      ]
     },
     "execution_count": 82,
     "metadata": {},
     "output_type": "execute_result"
    }
   ],
   "source": [
    "list(zip(X_train.columns, model.coef_[0,:]))"
   ]
  },
  {
   "cell_type": "code",
   "execution_count": 84,
   "metadata": {},
   "outputs": [
    {
     "data": {
      "text/plain": [
       "<AxesSubplot:>"
      ]
     },
     "execution_count": 84,
     "metadata": {},
     "output_type": "execute_result"
    },
    {
     "data": {
      "image/png": "[encoded data removed]",
      "text/plain": [
       "<Figure size 640x480 with 1 Axes>"
      ]
     },
     "metadata": {},
     "output_type": "display_data"
    },
    {
     "name": "stdout",
     "output_type": "stream",
     "text": [
      "[CV 1/3; 3/6] START C=0.1, max_iter=50000, penalty=l2...........................\n",
      "[CV 1/3; 3/6] END .........C=0.1, max_iter=50000, penalty=l2; total time=   0.1s\n",
      "[CV 1/3; 3/4] START C=0.001, max_iter=50000, penalty=l2.........................\n",
      "[CV 1/3; 3/4] END .......C=0.001, max_iter=50000, penalty=l2; total time=   0.0s\n",
      "[CV 3/3; 2/4] START C=1e-05, max_iter=100, penalty=l2...........................\n",
      "[CV 3/3; 2/4] END .........C=1e-05, max_iter=100, penalty=l2; total time=   0.0s\n",
      "[CV 3/3; 4/4] START C=0.001, max_iter=100, penalty=l2...........................\n",
      "[CV 3/3; 4/4] END .........C=0.001, max_iter=100, penalty=l2; total time=   0.0s\n",
      "[CV 2/3; 3/4] START C=0.001, max_iter=50, penalty=l2............................\n",
      "[CV 2/3; 3/4] END ..........C=0.001, max_iter=50, penalty=l2; total time=   0.0s\n",
      "[CV 2/3; 2/4] START C=1e-05, max_iter=80, penalty=l2............................\n",
      "[CV 2/3; 2/4] END ..........C=1e-05, max_iter=80, penalty=l2; total time=   0.0s\n",
      "[CV 1/3; 1/4] START C=1e-05, max_iter=70, penalty=l2............................\n",
      "[CV 1/3; 1/4] END ..........C=1e-05, max_iter=70, penalty=l2; total time=   0.0s\n",
      "[CV 2/3; 4/4] START C=0.001, max_iter=80, penalty=l2............................\n",
      "[CV 2/3; 4/4] END ..........C=0.001, max_iter=80, penalty=l2; total time=   0.0s\n",
      "[CV 2/3; 2/4] START C=1e-06, max_iter=80, penalty=l2............................\n",
      "[CV 2/3; 2/4] END ..........C=1e-06, max_iter=80, penalty=l2; total time=   0.0s\n",
      "[CV 1/3; 1/6] START C=0.001, max_iter=100, penalty=l2...........................\n",
      "[CV 1/3; 1/6] END .........C=0.001, max_iter=100, penalty=l2; total time=   0.0s\n",
      "[CV 2/3; 4/6] START C=0.01, max_iter=1000, penalty=l2...........................\n",
      "[CV 2/3; 4/6] END .........C=0.01, max_iter=1000, penalty=l2; total time=   0.0s\n",
      "[CV 3/3; 1/6] START C=0.01, max_iter=50000, penalty=l2..........................\n",
      "[CV 3/3; 1/6] END ........C=0.01, max_iter=50000, penalty=l2; total time=   0.1s\n",
      "[CV 2/3; 4/6] START C=0.1, max_iter=10000, penalty=l2...........................\n",
      "[CV 2/3; 4/6] END .........C=0.1, max_iter=10000, penalty=l2; total time=   0.1s\n",
      "[CV 2/3; 6/6] START C=1, max_iter=10000, penalty=l2.............................\n",
      "[CV 2/3; 6/6] END ...........C=1, max_iter=10000, penalty=l2; total time=   0.0s\n",
      "[CV 2/3; 2/4] START C=1e-05, max_iter=10000, penalty=l2.........................\n",
      "[CV 2/3; 2/4] END .......C=1e-05, max_iter=10000, penalty=l2; total time=   0.0s\n",
      "[CV 2/3; 1/4] START C=1e-05, max_iter=500, penalty=l2...........................\n",
      "[CV 2/3; 1/4] END .........C=1e-05, max_iter=500, penalty=l2; total time=   0.0s\n",
      "[CV 3/3; 3/4] START C=0.001, max_iter=500, penalty=l2...........................\n",
      "[CV 3/3; 3/4] END .........C=0.001, max_iter=500, penalty=l2; total time=   0.0s\n",
      "[CV 1/3; 3/4] START C=0.001, max_iter=50, penalty=l2............................\n",
      "[CV 1/3; 3/4] END ..........C=0.001, max_iter=50, penalty=l2; total time=   0.0s\n",
      "[CV 3/3; 1/4] START C=1e-05, max_iter=100, penalty=l2...........................\n",
      "[CV 3/3; 1/4] END .........C=1e-05, max_iter=100, penalty=l2; total time=   0.0s\n",
      "[CV 3/3; 3/4] START C=0.001, max_iter=100, penalty=l2...........................\n",
      "[CV 3/3; 3/4] END .........C=0.001, max_iter=100, penalty=l2; total time=   0.0s\n",
      "[CV 1/3; 3/4] START C=0.001, max_iter=70, penalty=l2............................\n",
      "[CV 1/3; 3/4] END ..........C=0.001, max_iter=70, penalty=l2; total time=   0.0s\n",
      "[CV 3/3; 1/4] START C=1e-06, max_iter=70, penalty=l2............................\n",
      "[CV 3/3; 1/4] END ..........C=1e-06, max_iter=70, penalty=l2; total time=   0.0s\n",
      "[CV 2/3; 4/4] START C=1e-07, max_iter=80, penalty=l2............................\n",
      "[CV 2/3; 4/4] END ..........C=1e-07, max_iter=80, penalty=l2; total time=   0.0s\n",
      "[CV 2/3; 3/6] START C=0.01, max_iter=100, penalty=l2............................\n",
      "[CV 2/3; 3/6] END ..........C=0.01, max_iter=100, penalty=l2; total time=   0.0s\n",
      "[CV 3/3; 5/6] START C=1, max_iter=100, penalty=l2...............................\n",
      "[CV 3/3; 5/6] END .............C=1, max_iter=100, penalty=l2; total time=   0.0s\n"
     ]
    },
    {
     "name": "stderr",
     "output_type": "stream",
     "text": [
      "/home/mausoto/anaconda3/lib/python3.8/site-packages/scipy/__init__.py:138: UserWarning: A NumPy version >=1.16.5 and <1.23.0 is required for this version of SciPy (detected version 1.23.3)\n",
      "  warnings.warn(f\"A NumPy version >={np_minversion} and <{np_maxversion} is required for this version of \"\n",
      "/home/mausoto/anaconda3/lib/python3.8/site-packages/sklearn/linear_model/_logistic.py:763: ConvergenceWarning: lbfgs failed to converge (status=1):\n",
      "STOP: TOTAL NO. of ITERATIONS REACHED LIMIT.\n",
      "\n",
      "Increase the number of iterations (max_iter) or scale the data as shown in:\n",
      "    https://scikit-learn.org/stable/modules/preprocessing.html\n",
      "Please also refer to the documentation for alternative solver options:\n",
      "    https://scikit-learn.org/stable/modules/linear_model.html#logistic-regression\n",
      "  n_iter_i = _check_optimize_result(\n",
      "/home/mausoto/anaconda3/lib/python3.8/site-packages/sklearn/linear_model/_logistic.py:763: ConvergenceWarning: lbfgs failed to converge (status=1):\n",
      "STOP: TOTAL NO. of ITERATIONS REACHED LIMIT.\n",
      "\n",
      "Increase the number of iterations (max_iter) or scale the data as shown in:\n",
      "    https://scikit-learn.org/stable/modules/preprocessing.html\n",
      "Please also refer to the documentation for alternative solver options:\n",
      "    https://scikit-learn.org/stable/modules/linear_model.html#logistic-regression\n",
      "  n_iter_i = _check_optimize_result(\n",
      "/home/mausoto/anaconda3/lib/python3.8/site-packages/sklearn/linear_model/_logistic.py:763: ConvergenceWarning: lbfgs failed to converge (status=1):\n",
      "STOP: TOTAL NO. of ITERATIONS REACHED LIMIT.\n",
      "\n",
      "Increase the number of iterations (max_iter) or scale the data as shown in:\n",
      "    https://scikit-learn.org/stable/modules/preprocessing.html\n",
      "Please also refer to the documentation for alternative solver options:\n",
      "    https://scikit-learn.org/stable/modules/linear_model.html#logistic-regression\n",
      "  n_iter_i = _check_optimize_result(\n",
      "/home/mausoto/anaconda3/lib/python3.8/site-packages/sklearn/linear_model/_logistic.py:763: ConvergenceWarning: lbfgs failed to converge (status=1):\n",
      "STOP: TOTAL NO. of ITERATIONS REACHED LIMIT.\n",
      "\n",
      "Increase the number of iterations (max_iter) or scale the data as shown in:\n",
      "    https://scikit-learn.org/stable/modules/preprocessing.html\n",
      "Please also refer to the documentation for alternative solver options:\n",
      "    https://scikit-learn.org/stable/modules/linear_model.html#logistic-regression\n",
      "  n_iter_i = _check_optimize_result(\n",
      "/home/mausoto/anaconda3/lib/python3.8/site-packages/scipy/__init__.py:138: UserWarning: A NumPy version >=1.16.5 and <1.23.0 is required for this version of SciPy (detected version 1.23.3)\n",
      "  warnings.warn(f\"A NumPy version >={np_minversion} and <{np_maxversion} is required for this version of \"\n",
      "/home/mausoto/anaconda3/lib/python3.8/site-packages/sklearn/linear_model/_logistic.py:763: ConvergenceWarning: lbfgs failed to converge (status=1):\n",
      "STOP: TOTAL NO. of ITERATIONS REACHED LIMIT.\n",
      "\n",
      "Increase the number of iterations (max_iter) or scale the data as shown in:\n",
      "    https://scikit-learn.org/stable/modules/preprocessing.html\n",
      "Please also refer to the documentation for alternative solver options:\n",
      "    https://scikit-learn.org/stable/modules/linear_model.html#logistic-regression\n",
      "  n_iter_i = _check_optimize_result(\n",
      "/home/mausoto/anaconda3/lib/python3.8/site-packages/sklearn/linear_model/_logistic.py:763: ConvergenceWarning: lbfgs failed to converge (status=1):\n",
      "STOP: TOTAL NO. of ITERATIONS REACHED LIMIT.\n",
      "\n",
      "Increase the number of iterations (max_iter) or scale the data as shown in:\n",
      "    https://scikit-learn.org/stable/modules/preprocessing.html\n",
      "Please also refer to the documentation for alternative solver options:\n",
      "    https://scikit-learn.org/stable/modules/linear_model.html#logistic-regression\n",
      "  n_iter_i = _check_optimize_result(\n",
      "/home/mausoto/anaconda3/lib/python3.8/site-packages/sklearn/linear_model/_logistic.py:763: ConvergenceWarning: lbfgs failed to converge (status=1):\n",
      "STOP: TOTAL NO. of ITERATIONS REACHED LIMIT.\n",
      "\n",
      "Increase the number of iterations (max_iter) or scale the data as shown in:\n",
      "    https://scikit-learn.org/stable/modules/preprocessing.html\n",
      "Please also refer to the documentation for alternative solver options:\n",
      "    https://scikit-learn.org/stable/modules/linear_model.html#logistic-regression\n",
      "  n_iter_i = _check_optimize_result(\n",
      "/home/mausoto/anaconda3/lib/python3.8/site-packages/sklearn/linear_model/_logistic.py:763: ConvergenceWarning: lbfgs failed to converge (status=1):\n",
      "STOP: TOTAL NO. of ITERATIONS REACHED LIMIT.\n",
      "\n",
      "Increase the number of iterations (max_iter) or scale the data as shown in:\n",
      "    https://scikit-learn.org/stable/modules/preprocessing.html\n",
      "Please also refer to the documentation for alternative solver options:\n",
      "    https://scikit-learn.org/stable/modules/linear_model.html#logistic-regression\n",
      "  n_iter_i = _check_optimize_result(\n",
      "/home/mausoto/anaconda3/lib/python3.8/site-packages/sklearn/linear_model/_logistic.py:763: ConvergenceWarning: lbfgs failed to converge (status=1):\n",
      "STOP: TOTAL NO. of ITERATIONS REACHED LIMIT.\n",
      "\n",
      "Increase the number of iterations (max_iter) or scale the data as shown in:\n",
      "    https://scikit-learn.org/stable/modules/preprocessing.html\n",
      "Please also refer to the documentation for alternative solver options:\n",
      "    https://scikit-learn.org/stable/modules/linear_model.html#logistic-regression\n",
      "  n_iter_i = _check_optimize_result(\n"
     ]
    },
    {
     "name": "stdout",
     "output_type": "stream",
     "text": [
      "[CV 1/3; 1/6] START C=0.01, max_iter=50000, penalty=l2..........................\n",
      "[CV 1/3; 1/6] END ........C=0.01, max_iter=50000, penalty=l2; total time=   0.1s\n",
      "[CV 3/3; 4/6] START C=0.1, max_iter=10000, penalty=l2...........................\n",
      "[CV 3/3; 4/6] END .........C=0.1, max_iter=10000, penalty=l2; total time=   0.1s\n",
      "[CV 3/3; 6/6] START C=1, max_iter=10000, penalty=l2.............................\n",
      "[CV 3/3; 6/6] END ...........C=1, max_iter=10000, penalty=l2; total time=   0.1s\n",
      "[CV 3/3; 2/4] START C=1e-05, max_iter=10000, penalty=l2.........................\n",
      "[CV 3/3; 2/4] END .......C=1e-05, max_iter=10000, penalty=l2; total time=   0.0s\n",
      "[CV 2/3; 4/4] START C=0.001, max_iter=10000, penalty=l2.........................\n",
      "[CV 2/3; 4/4] END .......C=0.001, max_iter=10000, penalty=l2; total time=   0.0s\n",
      "[CV 3/3; 1/4] START C=1e-05, max_iter=500, penalty=l2...........................\n",
      "[CV 3/3; 1/4] END .........C=1e-05, max_iter=500, penalty=l2; total time=   0.0s\n",
      "[CV 1/3; 4/4] START C=0.001, max_iter=100, penalty=l2...........................\n",
      "[CV 1/3; 4/4] END .........C=0.001, max_iter=100, penalty=l2; total time=   0.0s\n",
      "[CV 3/3; 2/4] START C=1e-05, max_iter=10, penalty=l2............................\n",
      "[CV 3/3; 2/4] END ..........C=1e-05, max_iter=10, penalty=l2; total time=   0.0s\n",
      "[CV 2/3; 4/4] START C=0.001, max_iter=10, penalty=l2............................\n",
      "[CV 2/3; 4/4] END ..........C=0.001, max_iter=10, penalty=l2; total time=   0.0s\n",
      "[CV 3/3; 2/4] START C=1e-05, max_iter=80, penalty=l2............................\n",
      "[CV 3/3; 2/4] END ..........C=1e-05, max_iter=80, penalty=l2; total time=   0.0s\n",
      "[CV 2/3; 4/4] START C=0.001, max_iter=80, penalty=l2............................\n",
      "[CV 2/3; 4/4] END ..........C=0.001, max_iter=80, penalty=l2; total time=   0.0s\n",
      "[CV 2/3; 3/4] START C=0.001, max_iter=70, penalty=l2............................\n",
      "[CV 2/3; 3/4] END ..........C=0.001, max_iter=70, penalty=l2; total time=   0.0s\n",
      "[CV 3/3; 2/4] START C=1e-06, max_iter=80, penalty=l2............................\n",
      "[CV 3/3; 2/4] END ..........C=1e-06, max_iter=80, penalty=l2; total time=   0.0s\n",
      "[CV 3/3; 1/6] START C=0.001, max_iter=100, penalty=l2...........................\n",
      "[CV 3/3; 1/6] END .........C=0.001, max_iter=100, penalty=l2; total time=   0.0s\n",
      "[CV 3/3; 4/6] START C=0.01, max_iter=1000, penalty=l2...........................\n",
      "[CV 3/3; 4/6] END .........C=0.01, max_iter=1000, penalty=l2; total time=   0.1s\n",
      "[CV 1/3; 2/6] START C=0.01, max_iter=10000, penalty=l2..........................\n",
      "[CV 1/3; 2/6] END ........C=0.01, max_iter=10000, penalty=l2; total time=   0.1s\n",
      "[CV 1/3; 5/6] START C=1, max_iter=50000, penalty=l2.............................\n",
      "[CV 1/3; 5/6] END ...........C=1, max_iter=50000, penalty=l2; total time=   0.1s\n",
      "[CV 2/3; 1/4] START C=1e-05, max_iter=50000, penalty=l2.........................\n",
      "[CV 2/3; 1/4] END .......C=1e-05, max_iter=50000, penalty=l2; total time=   0.0s\n",
      "[CV 1/3; 1/4] START C=1e-05, max_iter=500, penalty=l2...........................\n",
      "[CV 1/3; 1/4] END .........C=1e-05, max_iter=500, penalty=l2; total time=   0.0s\n",
      "[CV 2/3; 1/4] START C=1e-05, max_iter=50, penalty=l2............................\n",
      "[CV 2/3; 1/4] END ..........C=1e-05, max_iter=50, penalty=l2; total time=   0.0s\n",
      "[CV 3/3; 4/4] START C=0.001, max_iter=10, penalty=l2............................\n",
      "[CV 3/3; 4/4] END ..........C=0.001, max_iter=10, penalty=l2; total time=   0.0s\n",
      "[CV 1/3; 3/4] START C=0.001, max_iter=100, penalty=l2...........................\n",
      "[CV 1/3; 3/4] END .........C=0.001, max_iter=100, penalty=l2; total time=   0.0s\n",
      "[CV 3/3; 1/4] START C=1e-05, max_iter=70, penalty=l2............................\n",
      "[CV 3/3; 1/4] END ..........C=1e-05, max_iter=70, penalty=l2; total time=   0.0s\n",
      "[CV 3/3; 4/4] START C=0.001, max_iter=80, penalty=l2............................\n",
      "[CV 3/3; 4/4] END ..........C=0.001, max_iter=80, penalty=l2; total time=   0.0s\n",
      "[CV 2/3; 3/4] START C=1e-07, max_iter=70, penalty=l2............................\n",
      "[CV 2/3; 3/4] END ..........C=1e-07, max_iter=70, penalty=l2; total time=   0.0s\n",
      "[CV 1/3; 2/6] START C=0.001, max_iter=1000, penalty=l2..........................\n",
      "[CV 1/3; 2/6] END ........C=0.001, max_iter=1000, penalty=l2; total time=   0.1s\n",
      "[CV 1/3; 5/6] START C=1, max_iter=100, penalty=l2...............................\n",
      "[CV 1/3; 5/6] END .............C=1, max_iter=100, penalty=l2; total time=   0.1s\n"
     ]
    },
    {
     "name": "stderr",
     "output_type": "stream",
     "text": [
      "/home/mausoto/anaconda3/lib/python3.8/site-packages/scipy/__init__.py:138: UserWarning: A NumPy version >=1.16.5 and <1.23.0 is required for this version of SciPy (detected version 1.23.3)\n",
      "  warnings.warn(f\"A NumPy version >={np_minversion} and <{np_maxversion} is required for this version of \"\n",
      "/home/mausoto/anaconda3/lib/python3.8/site-packages/sklearn/linear_model/_logistic.py:763: ConvergenceWarning: lbfgs failed to converge (status=1):\n",
      "STOP: TOTAL NO. of ITERATIONS REACHED LIMIT.\n",
      "\n",
      "Increase the number of iterations (max_iter) or scale the data as shown in:\n",
      "    https://scikit-learn.org/stable/modules/preprocessing.html\n",
      "Please also refer to the documentation for alternative solver options:\n",
      "    https://scikit-learn.org/stable/modules/linear_model.html#logistic-regression\n",
      "  n_iter_i = _check_optimize_result(\n",
      "/home/mausoto/anaconda3/lib/python3.8/site-packages/sklearn/linear_model/_logistic.py:763: ConvergenceWarning: lbfgs failed to converge (status=1):\n",
      "STOP: TOTAL NO. of ITERATIONS REACHED LIMIT.\n",
      "\n",
      "Increase the number of iterations (max_iter) or scale the data as shown in:\n",
      "    https://scikit-learn.org/stable/modules/preprocessing.html\n",
      "Please also refer to the documentation for alternative solver options:\n",
      "    https://scikit-learn.org/stable/modules/linear_model.html#logistic-regression\n",
      "  n_iter_i = _check_optimize_result(\n",
      "/home/mausoto/anaconda3/lib/python3.8/site-packages/sklearn/linear_model/_logistic.py:763: ConvergenceWarning: lbfgs failed to converge (status=1):\n",
      "STOP: TOTAL NO. of ITERATIONS REACHED LIMIT.\n",
      "\n",
      "Increase the number of iterations (max_iter) or scale the data as shown in:\n",
      "    https://scikit-learn.org/stable/modules/preprocessing.html\n",
      "Please also refer to the documentation for alternative solver options:\n",
      "    https://scikit-learn.org/stable/modules/linear_model.html#logistic-regression\n",
      "  n_iter_i = _check_optimize_result(\n",
      "/home/mausoto/anaconda3/lib/python3.8/site-packages/sklearn/linear_model/_logistic.py:763: ConvergenceWarning: lbfgs failed to converge (status=1):\n",
      "STOP: TOTAL NO. of ITERATIONS REACHED LIMIT.\n",
      "\n",
      "Increase the number of iterations (max_iter) or scale the data as shown in:\n",
      "    https://scikit-learn.org/stable/modules/preprocessing.html\n",
      "Please also refer to the documentation for alternative solver options:\n",
      "    https://scikit-learn.org/stable/modules/linear_model.html#logistic-regression\n",
      "  n_iter_i = _check_optimize_result(\n",
      "/home/mausoto/anaconda3/lib/python3.8/site-packages/sklearn/linear_model/_logistic.py:763: ConvergenceWarning: lbfgs failed to converge (status=1):\n",
      "STOP: TOTAL NO. of ITERATIONS REACHED LIMIT.\n",
      "\n",
      "Increase the number of iterations (max_iter) or scale the data as shown in:\n",
      "    https://scikit-learn.org/stable/modules/preprocessing.html\n",
      "Please also refer to the documentation for alternative solver options:\n",
      "    https://scikit-learn.org/stable/modules/linear_model.html#logistic-regression\n",
      "  n_iter_i = _check_optimize_result(\n",
      "/home/mausoto/anaconda3/lib/python3.8/site-packages/sklearn/linear_model/_logistic.py:763: ConvergenceWarning: lbfgs failed to converge (status=1):\n",
      "STOP: TOTAL NO. of ITERATIONS REACHED LIMIT.\n",
      "\n",
      "Increase the number of iterations (max_iter) or scale the data as shown in:\n",
      "    https://scikit-learn.org/stable/modules/preprocessing.html\n",
      "Please also refer to the documentation for alternative solver options:\n",
      "    https://scikit-learn.org/stable/modules/linear_model.html#logistic-regression\n",
      "  n_iter_i = _check_optimize_result(\n",
      "/home/mausoto/anaconda3/lib/python3.8/site-packages/scipy/__init__.py:138: UserWarning: A NumPy version >=1.16.5 and <1.23.0 is required for this version of SciPy (detected version 1.23.3)\n",
      "  warnings.warn(f\"A NumPy version >={np_minversion} and <{np_maxversion} is required for this version of \"\n",
      "/home/mausoto/anaconda3/lib/python3.8/site-packages/sklearn/linear_model/_logistic.py:763: ConvergenceWarning: lbfgs failed to converge (status=1):\n",
      "STOP: TOTAL NO. of ITERATIONS REACHED LIMIT.\n",
      "\n",
      "Increase the number of iterations (max_iter) or scale the data as shown in:\n",
      "    https://scikit-learn.org/stable/modules/preprocessing.html\n",
      "Please also refer to the documentation for alternative solver options:\n",
      "    https://scikit-learn.org/stable/modules/linear_model.html#logistic-regression\n",
      "  n_iter_i = _check_optimize_result(\n",
      "/home/mausoto/anaconda3/lib/python3.8/site-packages/sklearn/linear_model/_logistic.py:763: ConvergenceWarning: lbfgs failed to converge (status=1):\n",
      "STOP: TOTAL NO. of ITERATIONS REACHED LIMIT.\n",
      "\n",
      "Increase the number of iterations (max_iter) or scale the data as shown in:\n",
      "    https://scikit-learn.org/stable/modules/preprocessing.html\n",
      "Please also refer to the documentation for alternative solver options:\n",
      "    https://scikit-learn.org/stable/modules/linear_model.html#logistic-regression\n",
      "  n_iter_i = _check_optimize_result(\n",
      "/home/mausoto/anaconda3/lib/python3.8/site-packages/sklearn/linear_model/_logistic.py:763: ConvergenceWarning: lbfgs failed to converge (status=1):\n",
      "STOP: TOTAL NO. of ITERATIONS REACHED LIMIT.\n",
      "\n",
      "Increase the number of iterations (max_iter) or scale the data as shown in:\n",
      "    https://scikit-learn.org/stable/modules/preprocessing.html\n",
      "Please also refer to the documentation for alternative solver options:\n",
      "    https://scikit-learn.org/stable/modules/linear_model.html#logistic-regression\n",
      "  n_iter_i = _check_optimize_result(\n",
      "/home/mausoto/anaconda3/lib/python3.8/site-packages/sklearn/linear_model/_logistic.py:763: ConvergenceWarning: lbfgs failed to converge (status=1):\n",
      "STOP: TOTAL NO. of ITERATIONS REACHED LIMIT.\n",
      "\n",
      "Increase the number of iterations (max_iter) or scale the data as shown in:\n",
      "    https://scikit-learn.org/stable/modules/preprocessing.html\n",
      "Please also refer to the documentation for alternative solver options:\n",
      "    https://scikit-learn.org/stable/modules/linear_model.html#logistic-regression\n",
      "  n_iter_i = _check_optimize_result(\n"
     ]
    },
    {
     "name": "stdout",
     "output_type": "stream",
     "text": [
      "[CV 2/3; 2/6] START C=0.01, max_iter=10000, penalty=l2..........................\n",
      "[CV 2/3; 2/6] END ........C=0.01, max_iter=10000, penalty=l2; total time=   0.1s\n",
      "[CV 3/3; 3/6] START C=0.1, max_iter=50000, penalty=l2...........................\n",
      "[CV 3/3; 3/6] END .........C=0.1, max_iter=50000, penalty=l2; total time=   0.1s\n",
      "[CV 2/3; 5/6] START C=1, max_iter=50000, penalty=l2.............................\n",
      "[CV 2/3; 5/6] END ...........C=1, max_iter=50000, penalty=l2; total time=   0.0s\n",
      "[CV 3/3; 1/4] START C=1e-05, max_iter=50000, penalty=l2.........................\n",
      "[CV 3/3; 1/4] END .......C=1e-05, max_iter=50000, penalty=l2; total time=   0.0s\n",
      "[CV 1/3; 4/4] START C=0.001, max_iter=10000, penalty=l2.........................\n",
      "[CV 1/3; 4/4] END .......C=0.001, max_iter=10000, penalty=l2; total time=   0.0s\n",
      "[CV 2/3; 3/4] START C=0.001, max_iter=500, penalty=l2...........................\n",
      "[CV 2/3; 3/4] END .........C=0.001, max_iter=500, penalty=l2; total time=   0.0s\n",
      "[CV 3/3; 1/4] START C=1e-05, max_iter=50, penalty=l2............................\n",
      "[CV 3/3; 1/4] END ..........C=1e-05, max_iter=50, penalty=l2; total time=   0.0s\n",
      "[CV 2/3; 1/4] START C=1e-05, max_iter=100, penalty=l2...........................\n",
      "[CV 2/3; 1/4] END .........C=1e-05, max_iter=100, penalty=l2; total time=   0.0s\n",
      "[CV 3/3; 4/4] START C=0.001, max_iter=80, penalty=l2............................\n",
      "[CV 3/3; 4/4] END ..........C=0.001, max_iter=80, penalty=l2; total time=   0.0s\n",
      "[CV 3/3; 2/4] START C=1e-05, max_iter=80, penalty=l2............................\n",
      "[CV 3/3; 2/4] END ..........C=1e-05, max_iter=80, penalty=l2; total time=   0.0s\n",
      "[CV 2/3; 1/4] START C=1e-06, max_iter=70, penalty=l2............................\n",
      "[CV 2/3; 1/4] END ..........C=1e-06, max_iter=70, penalty=l2; total time=   0.0s\n",
      "[CV 1/3; 4/4] START C=1e-07, max_iter=80, penalty=l2............................\n",
      "[CV 1/3; 4/4] END ..........C=1e-07, max_iter=80, penalty=l2; total time=   0.0s\n",
      "[CV 1/3; 3/6] START C=0.01, max_iter=100, penalty=l2............................\n",
      "[CV 1/3; 3/6] END ..........C=0.01, max_iter=100, penalty=l2; total time=   0.1s\n",
      "[CV 1/3; 6/6] START C=1, max_iter=1000, penalty=l2..............................\n",
      "[CV 1/3; 6/6] END ............C=1, max_iter=1000, penalty=l2; total time=   0.1s\n",
      "[CV 2/3; 3/6] START C=0.1, max_iter=50000, penalty=l2...........................\n",
      "[CV 2/3; 3/6] END .........C=0.1, max_iter=50000, penalty=l2; total time=   0.1s\n",
      "[CV 2/3; 3/4] START C=0.001, max_iter=50000, penalty=l2.........................\n",
      "[CV 2/3; 3/4] END .......C=0.001, max_iter=50000, penalty=l2; total time=   0.0s\n",
      "[CV 2/3; 2/4] START C=1e-05, max_iter=100, penalty=l2...........................\n",
      "[CV 2/3; 2/4] END .........C=1e-05, max_iter=100, penalty=l2; total time=   0.0s\n",
      "[CV 1/3; 1/4] START C=1e-05, max_iter=50, penalty=l2............................\n",
      "[CV 1/3; 1/4] END ..........C=1e-05, max_iter=50, penalty=l2; total time=   0.0s\n",
      "[CV 3/3; 3/4] START C=0.001, max_iter=50, penalty=l2............................\n",
      "[CV 3/3; 3/4] END ..........C=0.001, max_iter=50, penalty=l2; total time=   0.0s\n",
      "[CV 2/3; 3/4] START C=0.001, max_iter=100, penalty=l2...........................\n",
      "[CV 2/3; 3/4] END .........C=0.001, max_iter=100, penalty=l2; total time=   0.0s\n",
      "[CV 1/3; 2/4] START C=1e-05, max_iter=80, penalty=l2............................\n",
      "[CV 1/3; 2/4] END ..........C=1e-05, max_iter=80, penalty=l2; total time=   0.0s\n",
      "[CV 1/3; 4/4] START C=0.001, max_iter=80, penalty=l2............................\n",
      "[CV 1/3; 4/4] END ..........C=0.001, max_iter=80, penalty=l2; total time=   0.0s\n",
      "[CV 1/3; 3/4] START C=1e-07, max_iter=70, penalty=l2............................\n",
      "[CV 1/3; 3/4] END ..........C=1e-07, max_iter=70, penalty=l2; total time=   0.0s\n",
      "[CV 2/3; 1/6] START C=0.001, max_iter=100, penalty=l2...........................\n",
      "[CV 2/3; 1/6] END .........C=0.001, max_iter=100, penalty=l2; total time=   0.0s\n",
      "[CV 3/3; 3/6] START C=0.01, max_iter=100, penalty=l2............................\n",
      "[CV 3/3; 3/6] END ..........C=0.01, max_iter=100, penalty=l2; total time=   0.0s\n",
      "[CV 2/3; 6/6] START C=1, max_iter=1000, penalty=l2..............................\n",
      "[CV 2/3; 6/6] END ............C=1, max_iter=1000, penalty=l2; total time=   0.0s\n"
     ]
    },
    {
     "name": "stderr",
     "output_type": "stream",
     "text": [
      "/home/mausoto/anaconda3/lib/python3.8/site-packages/scipy/__init__.py:138: UserWarning: A NumPy version >=1.16.5 and <1.23.0 is required for this version of SciPy (detected version 1.23.3)\n",
      "  warnings.warn(f\"A NumPy version >={np_minversion} and <{np_maxversion} is required for this version of \"\n",
      "/home/mausoto/anaconda3/lib/python3.8/site-packages/sklearn/linear_model/_logistic.py:763: ConvergenceWarning: lbfgs failed to converge (status=1):\n",
      "STOP: TOTAL NO. of ITERATIONS REACHED LIMIT.\n",
      "\n",
      "Increase the number of iterations (max_iter) or scale the data as shown in:\n",
      "    https://scikit-learn.org/stable/modules/preprocessing.html\n",
      "Please also refer to the documentation for alternative solver options:\n",
      "    https://scikit-learn.org/stable/modules/linear_model.html#logistic-regression\n",
      "  n_iter_i = _check_optimize_result(\n",
      "/home/mausoto/anaconda3/lib/python3.8/site-packages/sklearn/linear_model/_logistic.py:763: ConvergenceWarning: lbfgs failed to converge (status=1):\n",
      "STOP: TOTAL NO. of ITERATIONS REACHED LIMIT.\n",
      "\n",
      "Increase the number of iterations (max_iter) or scale the data as shown in:\n",
      "    https://scikit-learn.org/stable/modules/preprocessing.html\n",
      "Please also refer to the documentation for alternative solver options:\n",
      "    https://scikit-learn.org/stable/modules/linear_model.html#logistic-regression\n",
      "  n_iter_i = _check_optimize_result(\n",
      "/home/mausoto/anaconda3/lib/python3.8/site-packages/scipy/__init__.py:138: UserWarning: A NumPy version >=1.16.5 and <1.23.0 is required for this version of SciPy (detected version 1.23.3)\n",
      "  warnings.warn(f\"A NumPy version >={np_minversion} and <{np_maxversion} is required for this version of \"\n",
      "/home/mausoto/anaconda3/lib/python3.8/site-packages/sklearn/linear_model/_logistic.py:763: ConvergenceWarning: lbfgs failed to converge (status=1):\n",
      "STOP: TOTAL NO. of ITERATIONS REACHED LIMIT.\n",
      "\n",
      "Increase the number of iterations (max_iter) or scale the data as shown in:\n",
      "    https://scikit-learn.org/stable/modules/preprocessing.html\n",
      "Please also refer to the documentation for alternative solver options:\n",
      "    https://scikit-learn.org/stable/modules/linear_model.html#logistic-regression\n",
      "  n_iter_i = _check_optimize_result(\n",
      "/home/mausoto/anaconda3/lib/python3.8/site-packages/sklearn/linear_model/_logistic.py:763: ConvergenceWarning: lbfgs failed to converge (status=1):\n",
      "STOP: TOTAL NO. of ITERATIONS REACHED LIMIT.\n",
      "\n",
      "Increase the number of iterations (max_iter) or scale the data as shown in:\n",
      "    https://scikit-learn.org/stable/modules/preprocessing.html\n",
      "Please also refer to the documentation for alternative solver options:\n",
      "    https://scikit-learn.org/stable/modules/linear_model.html#logistic-regression\n",
      "  n_iter_i = _check_optimize_result(\n",
      "/home/mausoto/anaconda3/lib/python3.8/site-packages/sklearn/linear_model/_logistic.py:763: ConvergenceWarning: lbfgs failed to converge (status=1):\n",
      "STOP: TOTAL NO. of ITERATIONS REACHED LIMIT.\n",
      "\n",
      "Increase the number of iterations (max_iter) or scale the data as shown in:\n",
      "    https://scikit-learn.org/stable/modules/preprocessing.html\n",
      "Please also refer to the documentation for alternative solver options:\n",
      "    https://scikit-learn.org/stable/modules/linear_model.html#logistic-regression\n",
      "  n_iter_i = _check_optimize_result(\n"
     ]
    },
    {
     "name": "stdout",
     "output_type": "stream",
     "text": [
      "[CV 2/3; 1/6] START C=0.01, max_iter=50000, penalty=l2..........................\n",
      "[CV 2/3; 1/6] END ........C=0.01, max_iter=50000, penalty=l2; total time=   0.1s\n",
      "[CV 1/3; 4/6] START C=0.1, max_iter=10000, penalty=l2...........................\n",
      "[CV 1/3; 4/6] END .........C=0.1, max_iter=10000, penalty=l2; total time=   0.1s\n",
      "[CV 1/3; 6/6] START C=1, max_iter=10000, penalty=l2.............................\n",
      "[CV 1/3; 6/6] END ...........C=1, max_iter=10000, penalty=l2; total time=   0.1s\n",
      "[CV 1/3; 2/4] START C=1e-05, max_iter=10000, penalty=l2.........................\n",
      "[CV 1/3; 2/4] END .......C=1e-05, max_iter=10000, penalty=l2; total time=   0.0s\n",
      "[CV 3/3; 4/4] START C=0.001, max_iter=10000, penalty=l2.........................\n",
      "[CV 3/3; 4/4] END .......C=0.001, max_iter=10000, penalty=l2; total time=   0.0s\n",
      "[CV 1/3; 3/4] START C=0.001, max_iter=500, penalty=l2...........................\n",
      "[CV 1/3; 3/4] END .........C=0.001, max_iter=500, penalty=l2; total time=   0.0s\n",
      "[CV 1/3; 2/4] START C=1e-05, max_iter=10, penalty=l2............................\n",
      "[CV 1/3; 2/4] END ..........C=1e-05, max_iter=10, penalty=l2; total time=   0.0s\n",
      "[CV 1/3; 4/4] START C=0.001, max_iter=10, penalty=l2............................\n",
      "[CV 1/3; 4/4] END ..........C=0.001, max_iter=10, penalty=l2; total time=   0.0s\n",
      "[CV 1/3; 2/4] START C=1e-05, max_iter=80, penalty=l2............................\n",
      "[CV 1/3; 2/4] END ..........C=1e-05, max_iter=80, penalty=l2; total time=   0.0s\n",
      "[CV 1/3; 4/4] START C=0.001, max_iter=80, penalty=l2............................\n",
      "[CV 1/3; 4/4] END ..........C=0.001, max_iter=80, penalty=l2; total time=   0.0s\n",
      "[CV 2/3; 2/4] START C=1e-05, max_iter=80, penalty=l2............................\n",
      "[CV 2/3; 2/4] END ..........C=1e-05, max_iter=80, penalty=l2; total time=   0.0s\n",
      "[CV 1/3; 1/4] START C=1e-06, max_iter=70, penalty=l2............................\n",
      "[CV 1/3; 1/4] END ..........C=1e-06, max_iter=70, penalty=l2; total time=   0.0s\n",
      "[CV 3/3; 3/4] START C=1e-07, max_iter=70, penalty=l2............................\n",
      "[CV 3/3; 3/4] END ..........C=1e-07, max_iter=70, penalty=l2; total time=   0.0s\n",
      "[CV 2/3; 2/6] START C=0.001, max_iter=1000, penalty=l2..........................\n",
      "[CV 2/3; 2/6] END ........C=0.001, max_iter=1000, penalty=l2; total time=   0.0s\n",
      "[CV 1/3; 4/6] START C=0.01, max_iter=1000, penalty=l2...........................\n",
      "[CV 1/3; 4/6] END .........C=0.01, max_iter=1000, penalty=l2; total time=   0.0s\n",
      "[CV 3/3; 6/6] START C=1, max_iter=1000, penalty=l2..............................\n",
      "[CV 3/3; 6/6] END ............C=1, max_iter=1000, penalty=l2; total time=   0.0s\n",
      "[CV 3/3; 2/6] START C=0.01, max_iter=10000, penalty=l2..........................\n",
      "[CV 3/3; 2/6] END ........C=0.01, max_iter=10000, penalty=l2; total time=   0.1s\n",
      "[CV 3/3; 5/6] START C=1, max_iter=50000, penalty=l2.............................\n",
      "[CV 3/3; 5/6] END ...........C=1, max_iter=50000, penalty=l2; total time=   0.0s\n",
      "[CV 1/3; 1/4] START C=1e-05, max_iter=50000, penalty=l2.........................\n",
      "[CV 1/3; 1/4] END .......C=1e-05, max_iter=50000, penalty=l2; total time=   0.0s\n",
      "[CV 3/3; 3/4] START C=0.001, max_iter=50000, penalty=l2.........................\n",
      "[CV 3/3; 3/4] END .......C=0.001, max_iter=50000, penalty=l2; total time=   0.0s\n",
      "[CV 1/3; 2/4] START C=1e-05, max_iter=100, penalty=l2...........................\n",
      "[CV 1/3; 2/4] END .........C=1e-05, max_iter=100, penalty=l2; total time=   0.0s\n",
      "[CV 2/3; 4/4] START C=0.001, max_iter=100, penalty=l2...........................\n",
      "[CV 2/3; 4/4] END .........C=0.001, max_iter=100, penalty=l2; total time=   0.0s\n",
      "[CV 2/3; 2/4] START C=1e-05, max_iter=10, penalty=l2............................\n",
      "[CV 2/3; 2/4] END ..........C=1e-05, max_iter=10, penalty=l2; total time=   0.0s\n",
      "[CV 1/3; 1/4] START C=1e-05, max_iter=100, penalty=l2...........................\n",
      "[CV 1/3; 1/4] END .........C=1e-05, max_iter=100, penalty=l2; total time=   0.0s\n",
      "[CV 2/3; 1/4] START C=1e-05, max_iter=70, penalty=l2............................\n",
      "[CV 2/3; 1/4] END ..........C=1e-05, max_iter=70, penalty=l2; total time=   0.0s\n",
      "[CV 3/3; 3/4] START C=0.001, max_iter=70, penalty=l2............................\n",
      "[CV 3/3; 3/4] END ..........C=0.001, max_iter=70, penalty=l2; total time=   0.0s\n",
      "[CV 1/3; 2/4] START C=1e-06, max_iter=80, penalty=l2............................\n",
      "[CV 1/3; 2/4] END ..........C=1e-06, max_iter=80, penalty=l2; total time=   0.0s\n",
      "[CV 3/3; 4/4] START C=1e-07, max_iter=80, penalty=l2............................\n",
      "[CV 3/3; 4/4] END ..........C=1e-07, max_iter=80, penalty=l2; total time=   0.0s\n",
      "[CV 3/3; 2/6] START C=0.001, max_iter=1000, penalty=l2..........................\n",
      "[CV 3/3; 2/6] END ........C=0.001, max_iter=1000, penalty=l2; total time=   0.1s\n",
      "[CV 2/3; 5/6] START C=1, max_iter=100, penalty=l2...............................\n",
      "[CV 2/3; 5/6] END .............C=1, max_iter=100, penalty=l2; total time=   0.0s\n"
     ]
    },
    {
     "name": "stderr",
     "output_type": "stream",
     "text": [
      "/home/mausoto/anaconda3/lib/python3.8/site-packages/scipy/__init__.py:138: UserWarning: A NumPy version >=1.16.5 and <1.23.0 is required for this version of SciPy (detected version 1.23.3)\n",
      "  warnings.warn(f\"A NumPy version >={np_minversion} and <{np_maxversion} is required for this version of \"\n",
      "/home/mausoto/anaconda3/lib/python3.8/site-packages/sklearn/linear_model/_logistic.py:763: ConvergenceWarning: lbfgs failed to converge (status=1):\n",
      "STOP: TOTAL NO. of ITERATIONS REACHED LIMIT.\n",
      "\n",
      "Increase the number of iterations (max_iter) or scale the data as shown in:\n",
      "    https://scikit-learn.org/stable/modules/preprocessing.html\n",
      "Please also refer to the documentation for alternative solver options:\n",
      "    https://scikit-learn.org/stable/modules/linear_model.html#logistic-regression\n",
      "  n_iter_i = _check_optimize_result(\n",
      "/home/mausoto/anaconda3/lib/python3.8/site-packages/sklearn/linear_model/_logistic.py:763: ConvergenceWarning: lbfgs failed to converge (status=1):\n",
      "STOP: TOTAL NO. of ITERATIONS REACHED LIMIT.\n",
      "\n",
      "Increase the number of iterations (max_iter) or scale the data as shown in:\n",
      "    https://scikit-learn.org/stable/modules/preprocessing.html\n",
      "Please also refer to the documentation for alternative solver options:\n",
      "    https://scikit-learn.org/stable/modules/linear_model.html#logistic-regression\n",
      "  n_iter_i = _check_optimize_result(\n",
      "/home/mausoto/anaconda3/lib/python3.8/site-packages/sklearn/linear_model/_logistic.py:763: ConvergenceWarning: lbfgs failed to converge (status=1):\n",
      "STOP: TOTAL NO. of ITERATIONS REACHED LIMIT.\n",
      "\n",
      "Increase the number of iterations (max_iter) or scale the data as shown in:\n",
      "    https://scikit-learn.org/stable/modules/preprocessing.html\n",
      "Please also refer to the documentation for alternative solver options:\n",
      "    https://scikit-learn.org/stable/modules/linear_model.html#logistic-regression\n",
      "  n_iter_i = _check_optimize_result(\n",
      "/home/mausoto/anaconda3/lib/python3.8/site-packages/scipy/__init__.py:138: UserWarning: A NumPy version >=1.16.5 and <1.23.0 is required for this version of SciPy (detected version 1.23.3)\n",
      "  warnings.warn(f\"A NumPy version >={np_minversion} and <{np_maxversion} is required for this version of \"\n",
      "/home/mausoto/anaconda3/lib/python3.8/site-packages/sklearn/linear_model/_logistic.py:763: ConvergenceWarning: lbfgs failed to converge (status=1):\n",
      "STOP: TOTAL NO. of ITERATIONS REACHED LIMIT.\n",
      "\n",
      "Increase the number of iterations (max_iter) or scale the data as shown in:\n",
      "    https://scikit-learn.org/stable/modules/preprocessing.html\n",
      "Please also refer to the documentation for alternative solver options:\n",
      "    https://scikit-learn.org/stable/modules/linear_model.html#logistic-regression\n",
      "  n_iter_i = _check_optimize_result(\n",
      "/home/mausoto/anaconda3/lib/python3.8/site-packages/sklearn/linear_model/_logistic.py:763: ConvergenceWarning: lbfgs failed to converge (status=1):\n",
      "STOP: TOTAL NO. of ITERATIONS REACHED LIMIT.\n",
      "\n",
      "Increase the number of iterations (max_iter) or scale the data as shown in:\n",
      "    https://scikit-learn.org/stable/modules/preprocessing.html\n",
      "Please also refer to the documentation for alternative solver options:\n",
      "    https://scikit-learn.org/stable/modules/linear_model.html#logistic-regression\n",
      "  n_iter_i = _check_optimize_result(\n",
      "/home/mausoto/anaconda3/lib/python3.8/site-packages/sklearn/linear_model/_logistic.py:763: ConvergenceWarning: lbfgs failed to converge (status=1):\n",
      "STOP: TOTAL NO. of ITERATIONS REACHED LIMIT.\n",
      "\n",
      "Increase the number of iterations (max_iter) or scale the data as shown in:\n",
      "    https://scikit-learn.org/stable/modules/preprocessing.html\n",
      "Please also refer to the documentation for alternative solver options:\n",
      "    https://scikit-learn.org/stable/modules/linear_model.html#logistic-regression\n",
      "  n_iter_i = _check_optimize_result(\n"
     ]
    }
   ],
   "source": [
    "sns.barplot(x=X_train.columns, y=model.coef_[0,:], palette=\"Blues_d\")"
   ]
  },
  {
   "cell_type": "code",
   "execution_count": null,
   "metadata": {},
   "outputs": [],
   "source": []
  },
  {
   "cell_type": "code",
   "execution_count": null,
   "metadata": {},
   "outputs": [],
   "source": []
  }
 ],
 "metadata": {
  "kernelspec": {
   "display_name": "Python 3 (ipykernel)",
   "language": "python",
   "name": "python3"
  },
  "language_info": {
   "codemirror_mode": {
    "name": "ipython",
    "version": 3
   },
   "file_extension": ".py",
   "mimetype": "text/x-python",
   "name": "python",
   "nbconvert_exporter": "python",
   "pygments_lexer": "ipython3",
   "version": "3.8.8"
  }
 },
 "nbformat": 4,
 "nbformat_minor": 2
}
