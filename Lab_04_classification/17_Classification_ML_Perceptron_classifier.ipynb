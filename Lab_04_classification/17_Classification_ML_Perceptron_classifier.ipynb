{
 "cells": [
  {
   "cell_type": "markdown",
   "metadata": {},
   "source": [
    "# Classification: Multi-layer Perceptron Classifier"
   ]
  },
  {
   "cell_type": "code",
   "execution_count": 27,
   "metadata": {},
   "outputs": [],
   "source": [
    "#IMPORT DATA\n",
    "import pandas as pd\n",
    "data = pd.read_csv('diabetes.csv')"
   ]
  },
  {
   "cell_type": "code",
   "execution_count": 28,
   "metadata": {},
   "outputs": [
    {
     "data": {
      "text/html": [
       "<div>\n",
       "<style scoped>\n",
       "    .dataframe tbody tr th:only-of-type {\n",
       "        vertical-align: middle;\n",
       "    }\n",
       "\n",
       "    .dataframe tbody tr th {\n",
       "        vertical-align: top;\n",
       "    }\n",
       "\n",
       "    .dataframe thead th {\n",
       "        text-align: right;\n",
       "    }\n",
       "</style>\n",
       "<table border=\"1\" class=\"dataframe\">\n",
       "  <thead>\n",
       "    <tr style=\"text-align: right;\">\n",
       "      <th></th>\n",
       "      <th>timespreg</th>\n",
       "      <th>gluctol</th>\n",
       "      <th>diaspb</th>\n",
       "      <th>triceps</th>\n",
       "      <th>insulin</th>\n",
       "      <th>massindex</th>\n",
       "      <th>pedigree</th>\n",
       "      <th>age</th>\n",
       "      <th>target</th>\n",
       "    </tr>\n",
       "  </thead>\n",
       "  <tbody>\n",
       "    <tr>\n",
       "      <th>0</th>\n",
       "      <td>6</td>\n",
       "      <td>148</td>\n",
       "      <td>72</td>\n",
       "      <td>35</td>\n",
       "      <td>0</td>\n",
       "      <td>33.6</td>\n",
       "      <td>0.627</td>\n",
       "      <td>50</td>\n",
       "      <td>1</td>\n",
       "    </tr>\n",
       "    <tr>\n",
       "      <th>1</th>\n",
       "      <td>1</td>\n",
       "      <td>85</td>\n",
       "      <td>66</td>\n",
       "      <td>29</td>\n",
       "      <td>0</td>\n",
       "      <td>26.6</td>\n",
       "      <td>0.351</td>\n",
       "      <td>31</td>\n",
       "      <td>0</td>\n",
       "    </tr>\n",
       "    <tr>\n",
       "      <th>2</th>\n",
       "      <td>8</td>\n",
       "      <td>183</td>\n",
       "      <td>64</td>\n",
       "      <td>0</td>\n",
       "      <td>0</td>\n",
       "      <td>23.3</td>\n",
       "      <td>0.672</td>\n",
       "      <td>32</td>\n",
       "      <td>1</td>\n",
       "    </tr>\n",
       "    <tr>\n",
       "      <th>3</th>\n",
       "      <td>1</td>\n",
       "      <td>89</td>\n",
       "      <td>66</td>\n",
       "      <td>23</td>\n",
       "      <td>94</td>\n",
       "      <td>28.1</td>\n",
       "      <td>0.167</td>\n",
       "      <td>21</td>\n",
       "      <td>0</td>\n",
       "    </tr>\n",
       "    <tr>\n",
       "      <th>4</th>\n",
       "      <td>0</td>\n",
       "      <td>137</td>\n",
       "      <td>40</td>\n",
       "      <td>35</td>\n",
       "      <td>168</td>\n",
       "      <td>43.1</td>\n",
       "      <td>2.288</td>\n",
       "      <td>33</td>\n",
       "      <td>1</td>\n",
       "    </tr>\n",
       "  </tbody>\n",
       "</table>\n",
       "</div>"
      ],
      "text/plain": [
       "   timespreg  gluctol  diaspb  triceps  insulin  massindex  pedigree  age  \\\n",
       "0          6      148      72       35        0       33.6     0.627   50   \n",
       "1          1       85      66       29        0       26.6     0.351   31   \n",
       "2          8      183      64        0        0       23.3     0.672   32   \n",
       "3          1       89      66       23       94       28.1     0.167   21   \n",
       "4          0      137      40       35      168       43.1     2.288   33   \n",
       "\n",
       "   target  \n",
       "0       1  \n",
       "1       0  \n",
       "2       1  \n",
       "3       0  \n",
       "4       1  "
      ]
     },
     "execution_count": 28,
     "metadata": {},
     "output_type": "execute_result"
    }
   ],
   "source": [
    "data.head()"
   ]
  },
  {
   "cell_type": "code",
   "execution_count": 29,
   "metadata": {},
   "outputs": [
    {
     "name": "stdout",
     "output_type": "stream",
     "text": [
      "target\n",
      "0    500\n",
      "1    268\n",
      "dtype: int64\n"
     ]
    },
    {
     "data": {
      "image/png": "[encoded data removed]",
      "text/plain": [
       "<Figure size 640x480 with 1 Axes>"
      ]
     },
     "metadata": {},
     "output_type": "display_data"
    }
   ],
   "source": [
    "#Print class freq. through pandas \n",
    "print(data.groupby('target').size())\n",
    "\n",
    "#some imports to plot \n",
    "import matplotlib.pyplot as plt\n",
    "import seaborn as sns\n",
    "%matplotlib inline\n",
    "plt.style.use('ggplot')\n",
    "\n",
    "#Visualize Class Counts\n",
    "sns.countplot(y=data.target ,data=data)\n",
    "plt.xlabel(\"count of each class\")\n",
    "plt.ylabel(\"classes\")\n",
    "plt.show()"
   ]
  },
  {
   "cell_type": "code",
   "execution_count": 30,
   "metadata": {},
   "outputs": [
    {
     "name": "stdout",
     "output_type": "stream",
     "text": [
      "<class 'pandas.core.frame.DataFrame'>\n",
      "RangeIndex: 768 entries, 0 to 767\n",
      "Data columns (total 9 columns):\n",
      " #   Column     Non-Null Count  Dtype  \n",
      "---  ------     --------------  -----  \n",
      " 0   timespreg  768 non-null    int64  \n",
      " 1   gluctol    768 non-null    int64  \n",
      " 2   diaspb     768 non-null    int64  \n",
      " 3   triceps    768 non-null    int64  \n",
      " 4   insulin    768 non-null    int64  \n",
      " 5   massindex  768 non-null    float64\n",
      " 6   pedigree   768 non-null    float64\n",
      " 7   age        768 non-null    int64  \n",
      " 8   target     768 non-null    int64  \n",
      "dtypes: float64(2), int64(7)\n",
      "memory usage: 54.1 KB\n"
     ]
    }
   ],
   "source": [
    "#gives information about the data types,columns, null value counts, memory usage etc\n",
    "data.info(verbose=True)"
   ]
  },
  {
   "cell_type": "code",
   "execution_count": 31,
   "metadata": {},
   "outputs": [
    {
     "data": {
      "text/html": [
       "<div>\n",
       "<style scoped>\n",
       "    .dataframe tbody tr th:only-of-type {\n",
       "        vertical-align: middle;\n",
       "    }\n",
       "\n",
       "    .dataframe tbody tr th {\n",
       "        vertical-align: top;\n",
       "    }\n",
       "\n",
       "    .dataframe thead th {\n",
       "        text-align: right;\n",
       "    }\n",
       "</style>\n",
       "<table border=\"1\" class=\"dataframe\">\n",
       "  <thead>\n",
       "    <tr style=\"text-align: right;\">\n",
       "      <th></th>\n",
       "      <th>timespreg</th>\n",
       "      <th>gluctol</th>\n",
       "      <th>diaspb</th>\n",
       "      <th>triceps</th>\n",
       "      <th>insulin</th>\n",
       "      <th>massindex</th>\n",
       "      <th>pedigree</th>\n",
       "      <th>age</th>\n",
       "      <th>target</th>\n",
       "    </tr>\n",
       "  </thead>\n",
       "  <tbody>\n",
       "    <tr>\n",
       "      <th>count</th>\n",
       "      <td>768.000000</td>\n",
       "      <td>768.000000</td>\n",
       "      <td>768.000000</td>\n",
       "      <td>768.000000</td>\n",
       "      <td>768.000000</td>\n",
       "      <td>768.000000</td>\n",
       "      <td>768.000000</td>\n",
       "      <td>768.000000</td>\n",
       "      <td>768.000000</td>\n",
       "    </tr>\n",
       "    <tr>\n",
       "      <th>mean</th>\n",
       "      <td>3.845052</td>\n",
       "      <td>120.894531</td>\n",
       "      <td>69.105469</td>\n",
       "      <td>20.536458</td>\n",
       "      <td>79.799479</td>\n",
       "      <td>31.992578</td>\n",
       "      <td>0.471876</td>\n",
       "      <td>33.240885</td>\n",
       "      <td>0.348958</td>\n",
       "    </tr>\n",
       "    <tr>\n",
       "      <th>std</th>\n",
       "      <td>3.369578</td>\n",
       "      <td>31.972618</td>\n",
       "      <td>19.355807</td>\n",
       "      <td>15.952218</td>\n",
       "      <td>115.244002</td>\n",
       "      <td>7.884160</td>\n",
       "      <td>0.331329</td>\n",
       "      <td>11.760232</td>\n",
       "      <td>0.476951</td>\n",
       "    </tr>\n",
       "    <tr>\n",
       "      <th>min</th>\n",
       "      <td>0.000000</td>\n",
       "      <td>0.000000</td>\n",
       "      <td>0.000000</td>\n",
       "      <td>0.000000</td>\n",
       "      <td>0.000000</td>\n",
       "      <td>0.000000</td>\n",
       "      <td>0.078000</td>\n",
       "      <td>21.000000</td>\n",
       "      <td>0.000000</td>\n",
       "    </tr>\n",
       "    <tr>\n",
       "      <th>25%</th>\n",
       "      <td>1.000000</td>\n",
       "      <td>99.000000</td>\n",
       "      <td>62.000000</td>\n",
       "      <td>0.000000</td>\n",
       "      <td>0.000000</td>\n",
       "      <td>27.300000</td>\n",
       "      <td>0.243750</td>\n",
       "      <td>24.000000</td>\n",
       "      <td>0.000000</td>\n",
       "    </tr>\n",
       "    <tr>\n",
       "      <th>50%</th>\n",
       "      <td>3.000000</td>\n",
       "      <td>117.000000</td>\n",
       "      <td>72.000000</td>\n",
       "      <td>23.000000</td>\n",
       "      <td>30.500000</td>\n",
       "      <td>32.000000</td>\n",
       "      <td>0.372500</td>\n",
       "      <td>29.000000</td>\n",
       "      <td>0.000000</td>\n",
       "    </tr>\n",
       "    <tr>\n",
       "      <th>75%</th>\n",
       "      <td>6.000000</td>\n",
       "      <td>140.250000</td>\n",
       "      <td>80.000000</td>\n",
       "      <td>32.000000</td>\n",
       "      <td>127.250000</td>\n",
       "      <td>36.600000</td>\n",
       "      <td>0.626250</td>\n",
       "      <td>41.000000</td>\n",
       "      <td>1.000000</td>\n",
       "    </tr>\n",
       "    <tr>\n",
       "      <th>max</th>\n",
       "      <td>17.000000</td>\n",
       "      <td>199.000000</td>\n",
       "      <td>122.000000</td>\n",
       "      <td>99.000000</td>\n",
       "      <td>846.000000</td>\n",
       "      <td>67.100000</td>\n",
       "      <td>2.420000</td>\n",
       "      <td>81.000000</td>\n",
       "      <td>1.000000</td>\n",
       "    </tr>\n",
       "  </tbody>\n",
       "</table>\n",
       "</div>"
      ],
      "text/plain": [
       "        timespreg     gluctol      diaspb     triceps     insulin   massindex  \\\n",
       "count  768.000000  768.000000  768.000000  768.000000  768.000000  768.000000   \n",
       "mean     3.845052  120.894531   69.105469   20.536458   79.799479   31.992578   \n",
       "std      3.369578   31.972618   19.355807   15.952218  115.244002    7.884160   \n",
       "min      0.000000    0.000000    0.000000    0.000000    0.000000    0.000000   \n",
       "25%      1.000000   99.000000   62.000000    0.000000    0.000000   27.300000   \n",
       "50%      3.000000  117.000000   72.000000   23.000000   30.500000   32.000000   \n",
       "75%      6.000000  140.250000   80.000000   32.000000  127.250000   36.600000   \n",
       "max     17.000000  199.000000  122.000000   99.000000  846.000000   67.100000   \n",
       "\n",
       "         pedigree         age      target  \n",
       "count  768.000000  768.000000  768.000000  \n",
       "mean     0.471876   33.240885    0.348958  \n",
       "std      0.331329   11.760232    0.476951  \n",
       "min      0.078000   21.000000    0.000000  \n",
       "25%      0.243750   24.000000    0.000000  \n",
       "50%      0.372500   29.000000    0.000000  \n",
       "75%      0.626250   41.000000    1.000000  \n",
       "max      2.420000   81.000000    1.000000  "
      ]
     },
     "execution_count": 31,
     "metadata": {},
     "output_type": "execute_result"
    }
   ],
   "source": [
    "#basic statistic details about the data\n",
    "data.describe(include=\"all\")"
   ]
  },
  {
   "cell_type": "code",
   "execution_count": 32,
   "metadata": {},
   "outputs": [],
   "source": [
    "#Separate X and y (explanatory variables and target variable)\n",
    "X = data.iloc[:,0:-1]\n",
    "column_names = list(X) \n",
    "y = data.iloc[:,-1] \n",
    "\n",
    "#X.head()\n",
    "#y.head()"
   ]
  },
  {
   "cell_type": "code",
   "execution_count": 33,
   "metadata": {},
   "outputs": [
    {
     "name": "stdout",
     "output_type": "stream",
     "text": [
      "(537, 8)\n"
     ]
    }
   ],
   "source": [
    "from sklearn.model_selection import train_test_split\n",
    "\n",
    "#SPLIT DATA INTO TRAIN AND TEST SET\n",
    "X_train, X_test, y_train, y_test = train_test_split(X, y, \n",
    "                                                    test_size =0.30, #by default is 75%-25%\n",
    "                                                    #shuffle is set True by default,\n",
    "                                                    stratify=y,\n",
    "                                                    random_state= 123) #fix random seed for replicability\n",
    "\n",
    "print(X_train.shape)"
   ]
  },
  {
   "cell_type": "markdown",
   "metadata": {},
   "source": [
    "## Multi-layer Perceptron classifier\n",
    "![MLPC](mlp.png)\n"
   ]
  },
  {
   "cell_type": "code",
   "execution_count": 34,
   "metadata": {
    "scrolled": false
   },
   "outputs": [
    {
     "name": "stdout",
     "output_type": "stream",
     "text": [
      "Iteration 1, loss = 0.67183762\n",
      "Iteration 2, loss = 0.67174385\n",
      "Iteration 3, loss = 0.67157787\n",
      "Iteration 4, loss = 0.67138871\n",
      "Iteration 5, loss = 0.67116886\n",
      "Iteration 6, loss = 0.67092119\n",
      "Iteration 7, loss = 0.67067422\n",
      "Iteration 8, loss = 0.67039942\n",
      "Iteration 9, loss = 0.67014595\n",
      "Iteration 10, loss = 0.66987604\n",
      "Iteration 11, loss = 0.66958832\n",
      "Iteration 12, loss = 0.66932450\n",
      "Iteration 13, loss = 0.66906247\n",
      "Iteration 14, loss = 0.66877539\n",
      "Iteration 15, loss = 0.66852519\n",
      "Iteration 16, loss = 0.66822199\n",
      "Iteration 17, loss = 0.66798521\n",
      "Iteration 18, loss = 0.66771966\n",
      "Iteration 19, loss = 0.66746129\n",
      "Iteration 20, loss = 0.66719988\n",
      "Iteration 21, loss = 0.66693771\n",
      "Iteration 22, loss = 0.66670439\n",
      "Iteration 23, loss = 0.66645820\n",
      "Iteration 24, loss = 0.66619090\n",
      "Iteration 25, loss = 0.66595587\n",
      "Iteration 26, loss = 0.66570442\n",
      "Iteration 27, loss = 0.66545391\n",
      "Iteration 28, loss = 0.66521628\n",
      "Iteration 29, loss = 0.66500992\n",
      "Iteration 30, loss = 0.66478508\n",
      "Iteration 31, loss = 0.66451476\n",
      "Iteration 32, loss = 0.66430078\n",
      "Iteration 33, loss = 0.66407160\n",
      "Iteration 34, loss = 0.66387537\n",
      "Iteration 35, loss = 0.66366408\n",
      "Iteration 36, loss = 0.66342164\n",
      "Iteration 37, loss = 0.66322052\n",
      "Iteration 38, loss = 0.66300334\n",
      "Iteration 39, loss = 0.66277989\n",
      "Iteration 40, loss = 0.66258113\n",
      "Iteration 41, loss = 0.66238514\n",
      "Iteration 42, loss = 0.66218496\n",
      "Iteration 43, loss = 0.66199986\n",
      "Iteration 44, loss = 0.66178798\n",
      "Iteration 45, loss = 0.66159275\n",
      "Iteration 46, loss = 0.66142118\n",
      "Iteration 47, loss = 0.66122318\n",
      "Iteration 48, loss = 0.66104330\n",
      "Iteration 49, loss = 0.66084192\n",
      "Iteration 50, loss = 0.66069517\n",
      "Iteration 51, loss = 0.66049830\n",
      "Iteration 52, loss = 0.66032433\n",
      "Iteration 53, loss = 0.66015520\n",
      "Iteration 54, loss = 0.65998869\n",
      "Iteration 55, loss = 0.65984221\n",
      "Iteration 56, loss = 0.65964588\n",
      "Iteration 57, loss = 0.65950142\n",
      "Iteration 58, loss = 0.65933108\n",
      "Iteration 59, loss = 0.65918250\n",
      "Iteration 60, loss = 0.65902131\n",
      "Iteration 61, loss = 0.65886214\n",
      "Iteration 62, loss = 0.65871730\n",
      "Iteration 63, loss = 0.65856791\n",
      "Iteration 64, loss = 0.65840282\n",
      "Iteration 65, loss = 0.65825515\n",
      "Iteration 66, loss = 0.65812372\n",
      "Iteration 67, loss = 0.65797319\n",
      "Iteration 68, loss = 0.65781270\n",
      "Iteration 69, loss = 0.65768480\n",
      "Iteration 70, loss = 0.65753951\n",
      "Iteration 71, loss = 0.65740872\n",
      "Iteration 72, loss = 0.65726891\n",
      "Iteration 73, loss = 0.65713234\n",
      "Iteration 74, loss = 0.65700143\n",
      "Iteration 75, loss = 0.65687147\n",
      "Iteration 76, loss = 0.65674782\n",
      "Iteration 77, loss = 0.65660613\n",
      "Iteration 78, loss = 0.65649588\n",
      "Iteration 79, loss = 0.65636228\n",
      "Iteration 80, loss = 0.65624572\n",
      "Iteration 81, loss = 0.65612500\n",
      "Iteration 82, loss = 0.65598726\n",
      "Iteration 83, loss = 0.65587779\n",
      "Iteration 84, loss = 0.65576032\n",
      "Iteration 85, loss = 0.65563969\n",
      "Iteration 86, loss = 0.65551737\n",
      "Iteration 87, loss = 0.65539040\n",
      "Iteration 88, loss = 0.65529549\n",
      "Iteration 89, loss = 0.65517289\n",
      "Iteration 90, loss = 0.65506473\n",
      "Iteration 91, loss = 0.65493581\n",
      "Iteration 92, loss = 0.65482953\n",
      "Iteration 93, loss = 0.65471981\n",
      "Iteration 94, loss = 0.65460723\n",
      "Iteration 95, loss = 0.65450819\n",
      "Iteration 96, loss = 0.65440250\n",
      "Iteration 97, loss = 0.65429629\n",
      "Iteration 98, loss = 0.65418227\n",
      "Iteration 99, loss = 0.65408992\n",
      "Iteration 100, loss = 0.65399293\n",
      "Iteration 101, loss = 0.65388350\n",
      "Iteration 102, loss = 0.65378559\n",
      "Iteration 103, loss = 0.65370447\n",
      "Iteration 104, loss = 0.65361928\n",
      "Iteration 105, loss = 0.65350802\n",
      "Iteration 106, loss = 0.65343535\n",
      "Iteration 107, loss = 0.65334414\n",
      "Iteration 108, loss = 0.65325037\n",
      "Iteration 109, loss = 0.65316608\n",
      "Iteration 110, loss = 0.65309271\n",
      "Iteration 111, loss = 0.65300736\n",
      "Iteration 112, loss = 0.65291759\n",
      "Iteration 113, loss = 0.65284827\n",
      "Iteration 114, loss = 0.65275936\n",
      "Iteration 115, loss = 0.65267628\n",
      "Iteration 116, loss = 0.65260004\n",
      "Iteration 117, loss = 0.65252458\n",
      "Iteration 118, loss = 0.65243988\n",
      "Iteration 119, loss = 0.65237774\n",
      "Iteration 120, loss = 0.65229192\n",
      "Iteration 121, loss = 0.65221789\n",
      "Iteration 122, loss = 0.65214241\n",
      "Iteration 123, loss = 0.65209567\n",
      "Iteration 124, loss = 0.65200237\n",
      "Iteration 125, loss = 0.65195264\n",
      "Iteration 126, loss = 0.65186457\n",
      "Iteration 127, loss = 0.65179417\n",
      "Iteration 128, loss = 0.65173752\n",
      "Iteration 129, loss = 0.65166554\n",
      "Iteration 130, loss = 0.65161029\n",
      "Iteration 131, loss = 0.65153682\n",
      "Iteration 132, loss = 0.65147924\n",
      "Iteration 133, loss = 0.65141002\n",
      "Iteration 134, loss = 0.65135208\n",
      "Iteration 135, loss = 0.65129647\n",
      "Iteration 136, loss = 0.65122807\n",
      "Iteration 137, loss = 0.65117782\n",
      "Iteration 138, loss = 0.65111164\n",
      "Iteration 139, loss = 0.65105594\n",
      "Iteration 140, loss = 0.65100548\n",
      "Iteration 141, loss = 0.65094954\n",
      "Iteration 142, loss = 0.65090197\n",
      "Iteration 143, loss = 0.65083955\n",
      "Iteration 144, loss = 0.65078684\n",
      "Iteration 145, loss = 0.65072782\n",
      "Iteration 146, loss = 0.65067420\n",
      "Iteration 147, loss = 0.65062401\n",
      "Iteration 148, loss = 0.65057604\n",
      "Iteration 149, loss = 0.65053252\n",
      "Iteration 150, loss = 0.65047212\n",
      "Iteration 151, loss = 0.65041860\n",
      "Iteration 152, loss = 0.65037176\n",
      "Iteration 153, loss = 0.65031543\n",
      "Iteration 154, loss = 0.65027503\n",
      "Iteration 155, loss = 0.65023096\n",
      "Iteration 156, loss = 0.65017394\n",
      "Iteration 157, loss = 0.65013087\n",
      "Iteration 158, loss = 0.65009765\n",
      "Iteration 159, loss = 0.65004402\n",
      "Iteration 160, loss = 0.64998923\n",
      "Iteration 161, loss = 0.64995578\n",
      "Iteration 162, loss = 0.64990547\n",
      "Iteration 163, loss = 0.64987236\n",
      "Iteration 164, loss = 0.64981836\n",
      "Iteration 165, loss = 0.64978161\n",
      "Iteration 166, loss = 0.64973359\n",
      "Iteration 167, loss = 0.64969127\n",
      "Iteration 168, loss = 0.64965768\n",
      "Iteration 169, loss = 0.64961942\n",
      "Iteration 170, loss = 0.64957969\n",
      "Iteration 171, loss = 0.64953354\n",
      "Iteration 172, loss = 0.64949868\n",
      "Iteration 173, loss = 0.64946776\n",
      "Iteration 174, loss = 0.64942431\n",
      "Iteration 175, loss = 0.64938733\n",
      "Iteration 176, loss = 0.64935736\n",
      "Iteration 177, loss = 0.64931576\n",
      "Iteration 178, loss = 0.64928160\n",
      "Iteration 179, loss = 0.64924361\n",
      "Iteration 180, loss = 0.64920987\n",
      "Iteration 181, loss = 0.64918259\n",
      "Iteration 182, loss = 0.64913376\n",
      "Iteration 183, loss = 0.64910345\n",
      "Iteration 184, loss = 0.64907297\n",
      "Iteration 185, loss = 0.64903813\n",
      "Iteration 186, loss = 0.64901093\n",
      "Iteration 187, loss = 0.64897726\n",
      "Iteration 188, loss = 0.64895221\n",
      "Iteration 189, loss = 0.64891836\n",
      "Iteration 190, loss = 0.64889698\n",
      "Iteration 191, loss = 0.64886358\n",
      "Iteration 192, loss = 0.64884168\n",
      "Iteration 193, loss = 0.64880739\n",
      "Iteration 194, loss = 0.64878878\n",
      "Iteration 195, loss = 0.64876038\n",
      "Iteration 196, loss = 0.64873396\n",
      "Iteration 197, loss = 0.64870495\n",
      "Iteration 198, loss = 0.64867633\n",
      "Iteration 199, loss = 0.64864529\n",
      "Iteration 200, loss = 0.64862685\n"
     ]
    },
    {
     "name": "stderr",
     "output_type": "stream",
     "text": [
      "/home/mausoto/anaconda3/lib/python3.8/site-packages/sklearn/neural_network/_multilayer_perceptron.py:614: ConvergenceWarning: Stochastic Optimizer: Maximum iterations (200) reached and the optimization hasn't converged yet.\n",
      "  warnings.warn(\n"
     ]
    },
    {
     "data": {
      "text/plain": [
       "array([0, 0, 0, 0, 0, 0, 0, 0, 0, 0, 0, 0, 0, 0, 0, 0, 0, 0, 0, 0, 0, 0,\n",
       "       0, 0, 0, 0, 0, 0, 0, 0, 0, 0, 0, 0, 0, 0, 0, 0, 0, 0, 0, 0, 0, 0,\n",
       "       0, 0, 0, 0, 0, 0, 0, 0, 0, 0, 0, 0, 0, 0, 0, 0, 0, 0, 0, 0, 0, 0,\n",
       "       0, 0, 0, 0, 0, 0, 0, 0, 0, 0, 0, 0, 0, 0, 0, 0, 0, 0, 0, 0, 0, 0,\n",
       "       0, 0, 0, 0, 0, 0, 0, 0, 0, 0, 0, 0, 0, 0, 0, 0, 0, 0, 0, 0, 0, 0,\n",
       "       0, 0, 0, 0, 0, 0, 0, 0, 0, 0, 0, 0, 0, 0, 0, 0, 0, 0, 0, 0, 0, 0,\n",
       "       0, 0, 0, 0, 0, 0, 0, 0, 0, 0, 0, 0, 0, 0, 0, 0, 0, 0, 0, 0, 0, 0,\n",
       "       0, 0, 0, 0, 0, 0, 0, 0, 0, 0, 0, 0, 0, 0, 0, 0, 0, 0, 0, 0, 0, 0,\n",
       "       0, 0, 0, 0, 0, 0, 0, 0, 0, 0, 0, 0, 0, 0, 0, 0, 0, 0, 0, 0, 0, 0,\n",
       "       0, 0, 0, 0, 0, 0, 0, 0, 0, 0, 0, 0, 0, 0, 0, 0, 0, 0, 0, 0, 0, 0,\n",
       "       0, 0, 0, 0, 0, 0, 0, 0, 0, 0, 0])"
      ]
     },
     "execution_count": 34,
     "metadata": {},
     "output_type": "execute_result"
    }
   ],
   "source": [
    "'''Multi-layer Perceptron classifier'''\n",
    "from sklearn.neural_network import MLPClassifier\n",
    "\n",
    "model=MLPClassifier(hidden_layer_sizes=(5,3,2),\n",
    "              activation='relu', \n",
    "                    alpha=0.01, batch_size='auto',              \n",
    "              learning_rate='adaptive',\n",
    "              max_iter=200, solver='sgd', tol=0.00001,\n",
    "              verbose=True)\n",
    "\n",
    "# hidden_layer_sizes :  The ith element represents the number of neurons in the ith hidden layer, default (100,) . \n",
    "# activation : {‘identity’, ‘logistic’, ‘tanh’, ‘relu’}, default ‘relu’\n",
    "    #Activation function for the hidden layer.\n",
    "    #        ‘identity’, no-op activation, useful to implement linear bottleneck, returns f(x) = x\n",
    "    #        ‘logistic’, the logistic sigmoid function, returns f(x) = 1 / (1 + exp(-x)).\n",
    "    #        ‘tanh’, the hyperbolic tan function, returns f(x) = tanh(x).\n",
    "    #        ‘relu’, the rectified linear unit function, returns f(x) = max(0, x)\n",
    "# solver : {‘lbfgs’, ‘sgd’, ‘adam’}, default ‘adam’\n",
    "    #      ‘lbfgs’ is an optimizer in the family of quasi-Newton methods.\n",
    "    #        ‘sgd’ refers to stochastic gradient descent.\n",
    "    #        ‘adam’ refers to a stochastic gradient-based optimizer proposed by Kingma, Diederik, and Jimmy Ba\n",
    "# alpha : float, optional, default 0.0001\n",
    "    #L2 penalty (regularization term) parameter.\n",
    "# batch_size :Size of minibatches for stochastic optimizers. When set to “auto”, batch_size=min(200, n_samples)\n",
    "# learning_rate : {‘constant’, ‘invscaling’, ‘adaptive’}, default ‘constant’\n",
    "    #    ‘constant’ is a constant learning rate given by ‘learning_rate_init’.\n",
    "    #    ‘invscaling’ gradually decreases the learning rate at each time step ‘t’ using an inverse scaling exponent of ‘power_t’. effective_learning_rate = learning_rate_init / pow(t, power_t)\n",
    "    #    ‘adaptive’ keeps the learning rate constant to ‘learning_rate_init’ as long as training loss keeps decreasing. Each time two consecutive epochs fail to decrease training loss by at least tol, or fail to increase validation score by at least tol if ‘early_stopping’ is on, the current learning rate is divided by 5.\n",
    "# learning_rate_init : double, optional, default 0.001\n",
    "# max_iter : Maximum number of iterations.\n",
    "# tol :Tolerance for the optimization.\n",
    "# verbose : \n",
    "\n",
    "# NOTE: Natively supports multi-class. Which of the other classification algorithms seen so far does too?\n",
    "\n",
    "model.fit(X_train, y_train)\n",
    "model.predict(X_test)\n"
   ]
  },
  {
   "cell_type": "code",
   "execution_count": 35,
   "metadata": {},
   "outputs": [],
   "source": [
    "from sklearn.preprocessing import StandardScaler\n",
    "scaler = StandardScaler()\n",
    "X_train_scaled = scaler.fit_transform(X_train)\n",
    "X_test_scaled = scaler.fit_transform(X_test)"
   ]
  },
  {
   "cell_type": "code",
   "execution_count": 37,
   "metadata": {},
   "outputs": [],
   "source": [
    "'''Multi-layer Perceptron classifier'''\n",
    "from sklearn.neural_network import MLPClassifier\n",
    "\n",
    "classifier = MLPClassifier(random_state=123)\n",
    "parameters = {\"hidden_layer_sizes\":[(20,5),(6,2), (25)],  \"max_iter\": [1000, 5000, 100000], \"alpha\": [0.001, 0.01]}\n",
    "#hidden_layer_sizes : The ith element represents the number of neurons in the ith hidden layer."
   ]
  },
  {
   "cell_type": "code",
   "execution_count": 38,
   "metadata": {},
   "outputs": [],
   "source": [
    "#DEFINE YOUR GRIDSEARCH \n",
    "'''\n",
    "GS perfoms an exhaustive search over specified parameter values for an estimator.\n",
    "GS uses a Stratified K-Folds cross-validator\n",
    "(The folds are made by preserving the percentage of samples for each class.)\n",
    "If refit=True the model is retrained on the whole training set with the best found params\n",
    "'''\n",
    "from sklearn.model_selection import GridSearchCV\n",
    "gs = GridSearchCV(classifier, parameters, cv=3, scoring = 'f1', verbose=50, n_jobs=-1, refit=True)"
   ]
  },
  {
   "cell_type": "code",
   "execution_count": 39,
   "metadata": {},
   "outputs": [
    {
     "name": "stdout",
     "output_type": "stream",
     "text": [
      "Fitting 3 folds for each of 18 candidates, totalling 54 fits\n"
     ]
    }
   ],
   "source": [
    "#TRAIN YOUR CLASSIFIER\n",
    "gs = gs.fit(X_train_scaled, y_train)"
   ]
  },
  {
   "cell_type": "code",
   "execution_count": 40,
   "metadata": {},
   "outputs": [
    {
     "name": "stdout",
     "output_type": "stream",
     "text": [
      "***GRIDSEARCH RESULTS***\n",
      "Best score: 0.618725 using {'alpha': 0.001, 'hidden_layer_sizes': (6, 2), 'max_iter': 1000}\n",
      "0.553279 (0.037853) with: {'alpha': 0.001, 'hidden_layer_sizes': (20, 5), 'max_iter': 1000}\n",
      "0.557036 (0.029530) with: {'alpha': 0.001, 'hidden_layer_sizes': (20, 5), 'max_iter': 5000}\n",
      "0.557036 (0.029530) with: {'alpha': 0.001, 'hidden_layer_sizes': (20, 5), 'max_iter': 100000}\n",
      "0.618725 (0.051181) with: {'alpha': 0.001, 'hidden_layer_sizes': (6, 2), 'max_iter': 1000}\n",
      "0.618725 (0.051181) with: {'alpha': 0.001, 'hidden_layer_sizes': (6, 2), 'max_iter': 5000}\n",
      "0.618725 (0.051181) with: {'alpha': 0.001, 'hidden_layer_sizes': (6, 2), 'max_iter': 100000}\n",
      "0.583067 (0.017095) with: {'alpha': 0.001, 'hidden_layer_sizes': 25, 'max_iter': 1000}\n",
      "0.568389 (0.031806) with: {'alpha': 0.001, 'hidden_layer_sizes': 25, 'max_iter': 5000}\n",
      "0.568389 (0.031806) with: {'alpha': 0.001, 'hidden_layer_sizes': 25, 'max_iter': 100000}\n",
      "0.554762 (0.026005) with: {'alpha': 0.01, 'hidden_layer_sizes': (20, 5), 'max_iter': 1000}\n",
      "0.532867 (0.012198) with: {'alpha': 0.01, 'hidden_layer_sizes': (20, 5), 'max_iter': 5000}\n",
      "0.532867 (0.012198) with: {'alpha': 0.01, 'hidden_layer_sizes': (20, 5), 'max_iter': 100000}\n",
      "0.610705 (0.055456) with: {'alpha': 0.01, 'hidden_layer_sizes': (6, 2), 'max_iter': 1000}\n",
      "0.610705 (0.055456) with: {'alpha': 0.01, 'hidden_layer_sizes': (6, 2), 'max_iter': 5000}\n",
      "0.610705 (0.055456) with: {'alpha': 0.01, 'hidden_layer_sizes': (6, 2), 'max_iter': 100000}\n",
      "0.576959 (0.008939) with: {'alpha': 0.01, 'hidden_layer_sizes': 25, 'max_iter': 1000}\n",
      "0.581411 (0.018789) with: {'alpha': 0.01, 'hidden_layer_sizes': 25, 'max_iter': 5000}\n",
      "0.581411 (0.018789) with: {'alpha': 0.01, 'hidden_layer_sizes': 25, 'max_iter': 100000}\n"
     ]
    }
   ],
   "source": [
    "#summarize the results of your GRIDSEARCH\n",
    "print('***GRIDSEARCH RESULTS***')\n",
    "\n",
    "print(\"Best score: %f using %s\" % (gs.best_score_, gs.best_params_))\n",
    "means = gs.cv_results_['mean_test_score']\n",
    "stds = gs.cv_results_['std_test_score']\n",
    "params = gs.cv_results_['params']\n",
    "\n",
    "for mean, stdev, param in zip(means, stds, params):\n",
    "    print(\"%f (%f) with: %r\" % (mean, stdev, param))"
   ]
  },
  {
   "cell_type": "code",
   "execution_count": 41,
   "metadata": {},
   "outputs": [],
   "source": [
    "#TEST ON YOUR TEST SET \n",
    "best_model = gs.best_estimator_\n",
    "y_pred = best_model.predict(X_test_scaled)\n",
    "\n",
    "y_pred_train = best_model.predict(X_train_scaled)"
   ]
  },
  {
   "cell_type": "code",
   "execution_count": 42,
   "metadata": {},
   "outputs": [
    {
     "data": {
      "text/plain": [
       "array([0, 0, 0, 0, 1, 0, 0, 0, 0, 0, 0, 0, 1, 0, 1, 0, 0, 0, 0, 0, 1, 0,\n",
       "       1, 1, 0, 1, 0, 0, 0, 1, 0, 1, 0, 0, 0, 0, 0, 1, 0, 1, 0, 1, 0, 0,\n",
       "       0, 0, 0, 0, 0, 0, 0, 0, 0, 0, 0, 0, 0, 0, 0, 0, 0, 0, 0, 0, 0, 1,\n",
       "       1, 0, 1, 1, 0, 0, 1, 0, 1, 0, 0, 1, 0, 1, 1, 0, 0, 0, 0, 0, 0, 0,\n",
       "       0, 1, 0, 0, 0, 1, 0, 0, 0, 1, 0, 0, 0, 1, 1, 0, 1, 0, 0, 0, 1, 0,\n",
       "       1, 0, 0, 0, 1, 0, 0, 0, 0, 0, 1, 1, 0, 0, 0, 0, 0, 0, 0, 0, 0, 0,\n",
       "       0, 1, 0, 1, 1, 1, 1, 0, 0, 0, 1, 1, 1, 1, 0, 0, 1, 0, 1, 0, 0, 0,\n",
       "       1, 1, 0, 1, 0, 0, 0, 0, 0, 0, 1, 0, 0, 0, 1, 0, 1, 1, 0, 1, 1, 0,\n",
       "       0, 1, 0, 0, 1, 0, 0, 1, 0, 0, 1, 0, 0, 0, 1, 0, 0, 1, 0, 0, 0, 1,\n",
       "       0, 0, 0, 1, 0, 1, 0, 0, 1, 0, 1, 1, 1, 0, 0, 0, 1, 1, 0, 1, 0, 1,\n",
       "       0, 0, 0, 0, 0, 0, 0, 1, 0, 0, 0])"
      ]
     },
     "execution_count": 42,
     "metadata": {},
     "output_type": "execute_result"
    }
   ],
   "source": [
    "y_pred"
   ]
  },
  {
   "cell_type": "code",
   "execution_count": 43,
   "metadata": {},
   "outputs": [
    {
     "name": "stdout",
     "output_type": "stream",
     "text": [
      "***RESULTS ON TRAIN SET***\n",
      "f1_score:  0.6858789625360231\n",
      "--\n",
      "***RESULTS ON TEST SET***\n",
      "f1_score:  0.6490066225165563\n"
     ]
    }
   ],
   "source": [
    "#EVALUATE YOUR PREDICTION (on the y_test that you left aside)\n",
    "from sklearn import metrics\n",
    "\n",
    "print('***RESULTS ON TRAIN SET***')\n",
    "print(\"f1_score: \", metrics.f1_score(y_train, y_pred_train))\n",
    "print(\"--\")\n",
    "print('***RESULTS ON TEST SET***')\n",
    "print(\"f1_score: \", metrics.f1_score(y_test, y_pred))"
   ]
  },
  {
   "cell_type": "code",
   "execution_count": 44,
   "metadata": {},
   "outputs": [
    {
     "name": "stdout",
     "output_type": "stream",
     "text": [
      "              precision    recall  f1-score   support\n",
      "\n",
      "           0       0.80      0.86      0.83       150\n",
      "           1       0.70      0.60      0.65        81\n",
      "\n",
      "    accuracy                           0.77       231\n",
      "   macro avg       0.75      0.73      0.74       231\n",
      "weighted avg       0.77      0.77      0.77       231\n",
      "\n"
     ]
    }
   ],
   "source": [
    "#PRINT SOME FURTHER METRICS\n",
    "from sklearn.metrics import classification_report\n",
    "print(classification_report(y_test, y_pred))"
   ]
  },
  {
   "cell_type": "code",
   "execution_count": 45,
   "metadata": {},
   "outputs": [
    {
     "name": "stdout",
     "output_type": "stream",
     "text": [
      "[[129  21]\n",
      " [ 32  49]]\n"
     ]
    }
   ],
   "source": [
    "#CONFUSION MATRIX\n",
    "from sklearn.metrics import confusion_matrix\n",
    "print(confusion_matrix(y_test, y_pred))"
   ]
  },
  {
   "cell_type": "code",
   "execution_count": 46,
   "metadata": {},
   "outputs": [
    {
     "data": {
      "image/png": "[encoded data removed]",
      "text/plain": [
       "<Figure size 640x480 with 2 Axes>"
      ]
     },
     "metadata": {},
     "output_type": "display_data"
    }
   ],
   "source": [
    "# Plot confusion matrix\n",
    "sns.heatmap(confusion_matrix(y_test, y_pred), annot=True, fmt='d', cmap=\"Blues\"); #annot=True to annotate cells fmt: format\n"
   ]
  },
  {
   "cell_type": "code",
   "execution_count": 49,
   "metadata": {},
   "outputs": [
    {
     "data": {
      "image/png": "[encoded data removed]",
      "text/plain": [
       "<Figure size 640x480 with 1 Axes>"
      ]
     },
     "metadata": {},
     "output_type": "display_data"
    },
    {
     "name": "stdout",
     "output_type": "stream",
     "text": [
      "AUC: 0.49\n",
      "[CV 2/3; 1/18] START alpha=0.001, hidden_layer_sizes=(20, 5), max_iter=1000.....\n",
      "[CV 2/3; 1/18] END alpha=0.001, hidden_layer_sizes=(20, 5), max_iter=1000; total time=   1.7s\n",
      "[CV 3/3; 3/18] START alpha=0.001, hidden_layer_sizes=(20, 5), max_iter=100000...\n",
      "[CV 3/3; 3/18] END alpha=0.001, hidden_layer_sizes=(20, 5), max_iter=100000; total time=   2.2s\n",
      "[CV 2/3; 8/18] START alpha=0.001, hidden_layer_sizes=25, max_iter=5000..........\n",
      "[CV 2/3; 8/18] END alpha=0.001, hidden_layer_sizes=25, max_iter=5000; total time=   1.8s\n",
      "[CV 1/3; 11/18] START alpha=0.01, hidden_layer_sizes=(20, 5), max_iter=5000.....\n",
      "[CV 1/3; 11/18] END alpha=0.01, hidden_layer_sizes=(20, 5), max_iter=5000; total time=   2.3s\n",
      "[CV 1/3; 14/18] START alpha=0.01, hidden_layer_sizes=(6, 2), max_iter=5000......\n",
      "[CV 1/3; 14/18] END alpha=0.01, hidden_layer_sizes=(6, 2), max_iter=5000; total time=   1.2s\n",
      "[CV 2/3; 16/18] START alpha=0.01, hidden_layer_sizes=25, max_iter=1000..........\n",
      "[CV 2/3; 16/18] END alpha=0.01, hidden_layer_sizes=25, max_iter=1000; total time=   1.4s\n",
      "[CV 1/3; 1/18] START alpha=0.001, hidden_layer_sizes=(20, 5), max_iter=1000.....\n",
      "[CV 1/3; 1/18] END alpha=0.001, hidden_layer_sizes=(20, 5), max_iter=1000; total time=   1.7s\n",
      "[CV 2/3; 4/18] START alpha=0.001, hidden_layer_sizes=(6, 2), max_iter=1000......\n",
      "[CV 2/3; 4/18] END alpha=0.001, hidden_layer_sizes=(6, 2), max_iter=1000; total time=   0.8s\n",
      "[CV 3/3; 5/18] START alpha=0.001, hidden_layer_sizes=(6, 2), max_iter=5000......\n",
      "[CV 3/3; 5/18] END alpha=0.001, hidden_layer_sizes=(6, 2), max_iter=5000; total time=   1.0s\n",
      "[CV 3/3; 7/18] START alpha=0.001, hidden_layer_sizes=25, max_iter=1000..........\n",
      "[CV 3/3; 7/18] END alpha=0.001, hidden_layer_sizes=25, max_iter=1000; total time=   1.4s\n",
      "[CV 2/3; 10/18] START alpha=0.01, hidden_layer_sizes=(20, 5), max_iter=1000.....\n",
      "[CV 2/3; 10/18] END alpha=0.01, hidden_layer_sizes=(20, 5), max_iter=1000; total time=   1.7s\n",
      "[CV 3/3; 12/18] START alpha=0.01, hidden_layer_sizes=(20, 5), max_iter=100000...\n",
      "[CV 3/3; 12/18] END alpha=0.01, hidden_layer_sizes=(20, 5), max_iter=100000; total time=   2.7s\n",
      "[CV 3/3; 16/18] START alpha=0.01, hidden_layer_sizes=25, max_iter=1000..........\n",
      "[CV 3/3; 16/18] END alpha=0.01, hidden_layer_sizes=25, max_iter=1000; total time=   1.4s\n"
     ]
    },
    {
     "name": "stderr",
     "output_type": "stream",
     "text": [
      "/home/mausoto/anaconda3/lib/python3.8/site-packages/scipy/__init__.py:138: UserWarning: A NumPy version >=1.16.5 and <1.23.0 is required for this version of SciPy (detected version 1.23.3)\n",
      "  warnings.warn(f\"A NumPy version >={np_minversion} and <{np_maxversion} is required for this version of \"\n",
      "/home/mausoto/anaconda3/lib/python3.8/site-packages/sklearn/neural_network/_multilayer_perceptron.py:614: ConvergenceWarning: Stochastic Optimizer: Maximum iterations (1000) reached and the optimization hasn't converged yet.\n",
      "  warnings.warn(\n",
      "/home/mausoto/anaconda3/lib/python3.8/site-packages/scipy/__init__.py:138: UserWarning: A NumPy version >=1.16.5 and <1.23.0 is required for this version of SciPy (detected version 1.23.3)\n",
      "  warnings.warn(f\"A NumPy version >={np_minversion} and <{np_maxversion} is required for this version of \"\n",
      "/home/mausoto/anaconda3/lib/python3.8/site-packages/sklearn/neural_network/_multilayer_perceptron.py:614: ConvergenceWarning: Stochastic Optimizer: Maximum iterations (1000) reached and the optimization hasn't converged yet.\n",
      "  warnings.warn(\n",
      "/home/mausoto/anaconda3/lib/python3.8/site-packages/sklearn/neural_network/_multilayer_perceptron.py:614: ConvergenceWarning: Stochastic Optimizer: Maximum iterations (1000) reached and the optimization hasn't converged yet.\n",
      "  warnings.warn(\n",
      "/home/mausoto/anaconda3/lib/python3.8/site-packages/sklearn/neural_network/_multilayer_perceptron.py:614: ConvergenceWarning: Stochastic Optimizer: Maximum iterations (1000) reached and the optimization hasn't converged yet.\n",
      "  warnings.warn(\n",
      "/home/mausoto/anaconda3/lib/python3.8/site-packages/sklearn/neural_network/_multilayer_perceptron.py:614: ConvergenceWarning: Stochastic Optimizer: Maximum iterations (1000) reached and the optimization hasn't converged yet.\n",
      "  warnings.warn(\n"
     ]
    },
    {
     "name": "stdout",
     "output_type": "stream",
     "text": [
      "[CV 3/3; 2/18] START alpha=0.001, hidden_layer_sizes=(20, 5), max_iter=5000.....\n",
      "[CV 3/3; 2/18] END alpha=0.001, hidden_layer_sizes=(20, 5), max_iter=5000; total time=   2.2s\n",
      "[CV 3/3; 4/18] START alpha=0.001, hidden_layer_sizes=(6, 2), max_iter=1000......\n",
      "[CV 3/3; 4/18] END alpha=0.001, hidden_layer_sizes=(6, 2), max_iter=1000; total time=   1.1s\n",
      "[CV 3/3; 6/18] START alpha=0.001, hidden_layer_sizes=(6, 2), max_iter=100000....\n",
      "[CV 3/3; 6/18] END alpha=0.001, hidden_layer_sizes=(6, 2), max_iter=100000; total time=   1.0s\n",
      "[CV 2/3; 9/18] START alpha=0.001, hidden_layer_sizes=25, max_iter=100000........\n",
      "[CV 2/3; 9/18] END alpha=0.001, hidden_layer_sizes=25, max_iter=100000; total time=   1.8s\n",
      "[CV 3/3; 11/18] START alpha=0.01, hidden_layer_sizes=(20, 5), max_iter=5000.....\n",
      "[CV 3/3; 11/18] END alpha=0.01, hidden_layer_sizes=(20, 5), max_iter=5000; total time=   2.7s\n",
      "[CV 2/3; 15/18] START alpha=0.01, hidden_layer_sizes=(6, 2), max_iter=100000....\n",
      "[CV 2/3; 15/18] END alpha=0.01, hidden_layer_sizes=(6, 2), max_iter=100000; total time=   0.7s\n",
      "[CV 2/3; 17/18] START alpha=0.01, hidden_layer_sizes=25, max_iter=5000..........\n",
      "[CV 2/3; 17/18] END alpha=0.01, hidden_layer_sizes=25, max_iter=5000; total time=   1.4s\n",
      "[CV 2/3; 3/18] START alpha=0.001, hidden_layer_sizes=(20, 5), max_iter=100000...\n",
      "[CV 2/3; 3/18] END alpha=0.001, hidden_layer_sizes=(20, 5), max_iter=100000; total time=   3.3s\n",
      "[CV 1/3; 7/18] START alpha=0.001, hidden_layer_sizes=25, max_iter=1000..........\n",
      "[CV 1/3; 7/18] END alpha=0.001, hidden_layer_sizes=25, max_iter=1000; total time=   1.4s\n",
      "[CV 3/3; 9/18] START alpha=0.001, hidden_layer_sizes=25, max_iter=100000........\n",
      "[CV 3/3; 9/18] END alpha=0.001, hidden_layer_sizes=25, max_iter=100000; total time=   2.2s\n",
      "[CV 1/3; 13/18] START alpha=0.01, hidden_layer_sizes=(6, 2), max_iter=1000......\n",
      "[CV 1/3; 13/18] END alpha=0.01, hidden_layer_sizes=(6, 2), max_iter=1000; total time=   1.2s\n",
      "[CV 2/3; 14/18] START alpha=0.01, hidden_layer_sizes=(6, 2), max_iter=5000......\n",
      "[CV 2/3; 14/18] END alpha=0.01, hidden_layer_sizes=(6, 2), max_iter=5000; total time=   0.7s\n",
      "[CV 3/3; 15/18] START alpha=0.01, hidden_layer_sizes=(6, 2), max_iter=100000....\n",
      "[CV 3/3; 15/18] END alpha=0.01, hidden_layer_sizes=(6, 2), max_iter=100000; total time=   0.7s\n",
      "[CV 3/3; 17/18] START alpha=0.01, hidden_layer_sizes=25, max_iter=5000..........\n",
      "[CV 3/3; 17/18] END alpha=0.01, hidden_layer_sizes=25, max_iter=5000; total time=   1.4s\n"
     ]
    },
    {
     "name": "stderr",
     "output_type": "stream",
     "text": [
      "/home/mausoto/anaconda3/lib/python3.8/site-packages/scipy/__init__.py:138: UserWarning: A NumPy version >=1.16.5 and <1.23.0 is required for this version of SciPy (detected version 1.23.3)\n",
      "  warnings.warn(f\"A NumPy version >={np_minversion} and <{np_maxversion} is required for this version of \"\n",
      "/home/mausoto/anaconda3/lib/python3.8/site-packages/scipy/__init__.py:138: UserWarning: A NumPy version >=1.16.5 and <1.23.0 is required for this version of SciPy (detected version 1.23.3)\n",
      "  warnings.warn(f\"A NumPy version >={np_minversion} and <{np_maxversion} is required for this version of \"\n",
      "/home/mausoto/anaconda3/lib/python3.8/site-packages/sklearn/neural_network/_multilayer_perceptron.py:614: ConvergenceWarning: Stochastic Optimizer: Maximum iterations (1000) reached and the optimization hasn't converged yet.\n",
      "  warnings.warn(\n"
     ]
    },
    {
     "name": "stdout",
     "output_type": "stream",
     "text": [
      "[CV 3/3; 1/18] START alpha=0.001, hidden_layer_sizes=(20, 5), max_iter=1000.....\n",
      "[CV 3/3; 1/18] END alpha=0.001, hidden_layer_sizes=(20, 5), max_iter=1000; total time=   1.7s\n",
      "[CV 1/3; 4/18] START alpha=0.001, hidden_layer_sizes=(6, 2), max_iter=1000......\n",
      "[CV 1/3; 4/18] END alpha=0.001, hidden_layer_sizes=(6, 2), max_iter=1000; total time=   1.3s\n",
      "[CV 1/3; 6/18] START alpha=0.001, hidden_layer_sizes=(6, 2), max_iter=100000....\n",
      "[CV 1/3; 6/18] END alpha=0.001, hidden_layer_sizes=(6, 2), max_iter=100000; total time=   1.3s\n",
      "[CV 1/3; 9/18] START alpha=0.001, hidden_layer_sizes=25, max_iter=100000........\n",
      "[CV 1/3; 9/18] END alpha=0.001, hidden_layer_sizes=25, max_iter=100000; total time=   1.7s\n",
      "[CV 2/3; 11/18] START alpha=0.01, hidden_layer_sizes=(20, 5), max_iter=5000.....\n",
      "[CV 2/3; 11/18] END alpha=0.01, hidden_layer_sizes=(20, 5), max_iter=5000; total time=   3.5s\n",
      "[CV 1/3; 17/18] START alpha=0.01, hidden_layer_sizes=25, max_iter=5000..........\n",
      "[CV 1/3; 17/18] END alpha=0.01, hidden_layer_sizes=25, max_iter=5000; total time=   1.6s\n",
      "[CV 2/3; 2/18] START alpha=0.001, hidden_layer_sizes=(20, 5), max_iter=5000.....\n",
      "[CV 2/3; 2/18] END alpha=0.001, hidden_layer_sizes=(20, 5), max_iter=5000; total time=   3.4s\n",
      "[CV 2/3; 7/18] START alpha=0.001, hidden_layer_sizes=25, max_iter=1000..........\n",
      "[CV 2/3; 7/18] END alpha=0.001, hidden_layer_sizes=25, max_iter=1000; total time=   1.4s\n",
      "[CV 1/3; 10/18] START alpha=0.01, hidden_layer_sizes=(20, 5), max_iter=1000.....\n",
      "[CV 1/3; 10/18] END alpha=0.01, hidden_layer_sizes=(20, 5), max_iter=1000; total time=   1.7s\n",
      "[CV 2/3; 12/18] START alpha=0.01, hidden_layer_sizes=(20, 5), max_iter=100000...\n",
      "[CV 2/3; 12/18] END alpha=0.01, hidden_layer_sizes=(20, 5), max_iter=100000; total time=   3.5s\n",
      "[CV 2/3; 18/18] START alpha=0.01, hidden_layer_sizes=25, max_iter=100000........\n",
      "[CV 2/3; 18/18] END alpha=0.01, hidden_layer_sizes=25, max_iter=100000; total time=   1.1s\n"
     ]
    },
    {
     "name": "stderr",
     "output_type": "stream",
     "text": [
      "/home/mausoto/anaconda3/lib/python3.8/site-packages/scipy/__init__.py:138: UserWarning: A NumPy version >=1.16.5 and <1.23.0 is required for this version of SciPy (detected version 1.23.3)\n",
      "  warnings.warn(f\"A NumPy version >={np_minversion} and <{np_maxversion} is required for this version of \"\n",
      "/home/mausoto/anaconda3/lib/python3.8/site-packages/sklearn/neural_network/_multilayer_perceptron.py:614: ConvergenceWarning: Stochastic Optimizer: Maximum iterations (1000) reached and the optimization hasn't converged yet.\n",
      "  warnings.warn(\n",
      "/home/mausoto/anaconda3/lib/python3.8/site-packages/scipy/__init__.py:138: UserWarning: A NumPy version >=1.16.5 and <1.23.0 is required for this version of SciPy (detected version 1.23.3)\n",
      "  warnings.warn(f\"A NumPy version >={np_minversion} and <{np_maxversion} is required for this version of \"\n",
      "/home/mausoto/anaconda3/lib/python3.8/site-packages/sklearn/neural_network/_multilayer_perceptron.py:614: ConvergenceWarning: Stochastic Optimizer: Maximum iterations (1000) reached and the optimization hasn't converged yet.\n",
      "  warnings.warn(\n",
      "/home/mausoto/anaconda3/lib/python3.8/site-packages/sklearn/neural_network/_multilayer_perceptron.py:614: ConvergenceWarning: Stochastic Optimizer: Maximum iterations (1000) reached and the optimization hasn't converged yet.\n",
      "  warnings.warn(\n",
      "/home/mausoto/anaconda3/lib/python3.8/site-packages/scipy/__init__.py:138: UserWarning: A NumPy version >=1.16.5 and <1.23.0 is required for this version of SciPy (detected version 1.23.3)\n",
      "  warnings.warn(f\"A NumPy version >={np_minversion} and <{np_maxversion} is required for this version of \"\n",
      "/home/mausoto/anaconda3/lib/python3.8/site-packages/sklearn/neural_network/_multilayer_perceptron.py:614: ConvergenceWarning: Stochastic Optimizer: Maximum iterations (1000) reached and the optimization hasn't converged yet.\n",
      "  warnings.warn(\n"
     ]
    },
    {
     "name": "stdout",
     "output_type": "stream",
     "text": [
      "[CV 1/3; 2/18] START alpha=0.001, hidden_layer_sizes=(20, 5), max_iter=5000.....\n",
      "[CV 1/3; 2/18] END alpha=0.001, hidden_layer_sizes=(20, 5), max_iter=5000; total time=   2.4s\n",
      "[CV 1/3; 5/18] START alpha=0.001, hidden_layer_sizes=(6, 2), max_iter=5000......\n",
      "[CV 1/3; 5/18] END alpha=0.001, hidden_layer_sizes=(6, 2), max_iter=5000; total time=   1.4s\n",
      "[CV 1/3; 8/18] START alpha=0.001, hidden_layer_sizes=25, max_iter=5000..........\n",
      "[CV 1/3; 8/18] END alpha=0.001, hidden_layer_sizes=25, max_iter=5000; total time=   1.7s\n",
      "[CV 3/3; 10/18] START alpha=0.01, hidden_layer_sizes=(20, 5), max_iter=1000.....\n",
      "[CV 3/3; 10/18] END alpha=0.01, hidden_layer_sizes=(20, 5), max_iter=1000; total time=   1.7s\n",
      "[CV 2/3; 13/18] START alpha=0.01, hidden_layer_sizes=(6, 2), max_iter=1000......\n",
      "[CV 2/3; 13/18] END alpha=0.01, hidden_layer_sizes=(6, 2), max_iter=1000; total time=   0.8s\n",
      "[CV 3/3; 13/18] START alpha=0.01, hidden_layer_sizes=(6, 2), max_iter=1000......\n",
      "[CV 3/3; 13/18] END alpha=0.01, hidden_layer_sizes=(6, 2), max_iter=1000; total time=   0.7s\n",
      "[CV 1/3; 15/18] START alpha=0.01, hidden_layer_sizes=(6, 2), max_iter=100000....\n",
      "[CV 1/3; 15/18] END alpha=0.01, hidden_layer_sizes=(6, 2), max_iter=100000; total time=   1.2s\n",
      "[CV 1/3; 18/18] START alpha=0.01, hidden_layer_sizes=25, max_iter=100000........\n",
      "[CV 1/3; 18/18] END alpha=0.01, hidden_layer_sizes=25, max_iter=100000; total time=   1.5s\n",
      "[CV 1/3; 3/18] START alpha=0.001, hidden_layer_sizes=(20, 5), max_iter=100000...\n",
      "[CV 1/3; 3/18] END alpha=0.001, hidden_layer_sizes=(20, 5), max_iter=100000; total time=   2.4s\n",
      "[CV 2/3; 5/18] START alpha=0.001, hidden_layer_sizes=(6, 2), max_iter=5000......\n",
      "[CV 2/3; 5/18] END alpha=0.001, hidden_layer_sizes=(6, 2), max_iter=5000; total time=   0.8s\n",
      "[CV 2/3; 6/18] START alpha=0.001, hidden_layer_sizes=(6, 2), max_iter=100000....\n",
      "[CV 2/3; 6/18] END alpha=0.001, hidden_layer_sizes=(6, 2), max_iter=100000; total time=   0.8s\n",
      "[CV 3/3; 8/18] START alpha=0.001, hidden_layer_sizes=25, max_iter=5000..........\n",
      "[CV 3/3; 8/18] END alpha=0.001, hidden_layer_sizes=25, max_iter=5000; total time=   2.2s\n",
      "[CV 1/3; 12/18] START alpha=0.01, hidden_layer_sizes=(20, 5), max_iter=100000...\n",
      "[CV 1/3; 12/18] END alpha=0.01, hidden_layer_sizes=(20, 5), max_iter=100000; total time=   2.3s\n",
      "[CV 3/3; 14/18] START alpha=0.01, hidden_layer_sizes=(6, 2), max_iter=5000......\n",
      "[CV 3/3; 14/18] END alpha=0.01, hidden_layer_sizes=(6, 2), max_iter=5000; total time=   0.7s\n",
      "[CV 1/3; 16/18] START alpha=0.01, hidden_layer_sizes=25, max_iter=1000..........\n",
      "[CV 1/3; 16/18] END alpha=0.01, hidden_layer_sizes=25, max_iter=1000; total time=   1.4s\n",
      "[CV 3/3; 18/18] START alpha=0.01, hidden_layer_sizes=25, max_iter=100000........\n",
      "[CV 3/3; 18/18] END alpha=0.01, hidden_layer_sizes=25, max_iter=100000; total time=   1.0s\n"
     ]
    },
    {
     "name": "stderr",
     "output_type": "stream",
     "text": [
      "/home/mausoto/anaconda3/lib/python3.8/site-packages/scipy/__init__.py:138: UserWarning: A NumPy version >=1.16.5 and <1.23.0 is required for this version of SciPy (detected version 1.23.3)\n",
      "  warnings.warn(f\"A NumPy version >={np_minversion} and <{np_maxversion} is required for this version of \"\n",
      "/home/mausoto/anaconda3/lib/python3.8/site-packages/sklearn/neural_network/_multilayer_perceptron.py:614: ConvergenceWarning: Stochastic Optimizer: Maximum iterations (1000) reached and the optimization hasn't converged yet.\n",
      "  warnings.warn(\n"
     ]
    }
   ],
   "source": [
    "from sklearn import metrics\n",
    "#Best score: 0.618725 using {'alpha': 0.001, 'hidden_layer_sizes': (6, 2), 'max_iter': 1000}\n",
    "model=MLPClassifier(hidden_layer_sizes=(6,2), alpha=0.001, max_iter=1000, random_state=123)\n",
    "model.fit(X_train, y_train)\n",
    "\n",
    "y_pred = model.predict(X_test)\n",
    "y_pred_train = model.predict(X_train)\n",
    "\n",
    "y_probs = model.predict_proba(X_test) #predict_proba gives the probabilities for the target (0 and 1 in your case) \n",
    "\n",
    "fpr, tpr, thresholds=metrics.roc_curve(y_test,  y_probs[:,1])\n",
    "\n",
    "import matplotlib.pyplot as plt\n",
    "plt.plot(fpr, tpr, label='ROC')\n",
    "plt.plot([0, 1], [0, 1], color='darkblue', linestyle='--')\n",
    "plt.xlabel('False Positive Rate')\n",
    "plt.ylabel('True Positive Rate')\n",
    "plt.title('Receiver Operating Characteristic (ROC) Curve')\n",
    "plt.legend()\n",
    "plt.show()\n",
    "\n",
    "auc = metrics.roc_auc_score(y_test, y_probs[:,1])\n",
    "print('AUC: %.2f' % auc)"
   ]
  },
  {
   "cell_type": "code",
   "execution_count": null,
   "metadata": {},
   "outputs": [],
   "source": []
  },
  {
   "cell_type": "code",
   "execution_count": null,
   "metadata": {},
   "outputs": [],
   "source": []
  }
 ],
 "metadata": {
  "kernelspec": {
   "display_name": "Python 3 (ipykernel)",
   "language": "python",
   "name": "python3"
  },
  "language_info": {
   "codemirror_mode": {
    "name": "ipython",
    "version": 3
   },
   "file_extension": ".py",
   "mimetype": "text/x-python",
   "name": "python",
   "nbconvert_exporter": "python",
   "pygments_lexer": "ipython3",
   "version": "3.8.8"
  }
 },
 "nbformat": 4,
 "nbformat_minor": 2
}
